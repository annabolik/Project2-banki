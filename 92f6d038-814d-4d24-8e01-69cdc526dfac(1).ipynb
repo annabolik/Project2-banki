{
 "cells": [
  {
   "cell_type": "markdown",
   "id": "8607dbe1",
   "metadata": {},
   "source": [
    "Привет, меня зовут Гребенюк Артём. Сегодня я буду делать ревью твоего проекта!\\\n",
    "В Практикуме принято общаться на \"ты\", однако если это неудобно - дай знать, и можем перейти на более официальное общение.\n",
    "\n",
    "Ниже ты найдешь мои комментарии - пожалуйста, не перемещай, не изменяй и не удаляй их. Я буду использовать цветовую разметку: \n",
    "\n",
    "<div class=\"alert alert-block alert-success\">\n",
    "<b>✔️ Success:</b> Если все сделано хорошо. </div>\n",
    "\n",
    "<div class=\"alert alert-block alert-warning\">\n",
    "<b>⚠️ Remarks:</b> Некритичное замечание; если таких замечаний меньше трех — проект может быть принят без их отработки.</div>\n",
    "\n",
    "<div class=\"alert alert-block alert-danger\">\n",
    "<b>❌ Needs fixing:</b> Грубая ошибка, необходимо исправить, иначе проект не будет принят.\n",
    "</div>\n",
    "\n",
    "Давай работать над проектом в диалоге: если ты что-то меняешь в проекте или отвечаешь на мои комменатри — пиши об этом. Мне будет легче отследить изменения, если ты выделишь свои комментарии:\n",
    "Например так:\n",
    "\n",
    "<div class=\"alert alert-block alert-info\">\n",
    "<b>💾 Fixed:</b> \n",
    "Hello World! ✔\n",
    "</div>\n",
    "\n",
    "Или можешь использовать эту галочку ✔ в моих комментариях, если писать особо нечего.\n",
    "\n",
    "<div class=\"alert alert-block alert-warning\">\n",
    "<b>Общее впечатление:</b> \n",
    "    \n",
    "- Спасибо за работу :)\n",
    "- У меня есть пара ремарок, которые помогут тебе сделать проект еще лучше.\n",
    "- Пробегись по моим комментариям, исправь недочёты и всё будет отлично :)\n",
    "    \n",
    "</div>\n",
    "\n"
   ]
  },
  {
   "cell_type": "markdown",
   "id": "033694b3",
   "metadata": {},
   "source": [
    "<div class=\"alert alert-block alert-success\">\n",
    "<b>Привет!</b> Отличная работа над ремарками! Проект принят, поздравляю, желаю удачи в дальнейшем обучении :)"
   ]
  },
  {
   "cell_type": "markdown",
   "id": "7561e1d0",
   "metadata": {},
   "source": [
    "# Исследование надежности заемщиков."
   ]
  },
  {
   "cell_type": "markdown",
   "id": "0f5d38c2",
   "metadata": {},
   "source": [
    "<div class=\"alert alert-block alert-warning\">\n",
    "<b>Remarks:</b>\n",
    "\n",
    "Любому проекту нужно введение. Также стоит задуматься, как еще его можно дополнить, чтобы сделать более ценным для читателя. В студенческом ноушене (если нет доступа, спроси куратора) есть статья о том, как мы оформляем работы.\n",
    "    \n",
    "Также советую тебе взглянуть на <a href=\"https://www.kaggle.com/notebooks/\">работы</a> профессиональных аналитиков, чтобы оценить, как другие люди оформляют и проводят исследования. </div>"
   ]
  },
  {
   "cell_type": "markdown",
   "id": "2f968222",
   "metadata": {},
   "source": [
    "<div class=\"alert alert-block alert-warning\">\n",
    "<b>Задача:</b>\n",
    "\n",
    "Заказчик — кредитный отдел банка. Нужно разобраться, влияет ли семейное положение и количество детей клиента на факт погашения кредита в срок. Входные данные от банка — статистика о платёжеспособности клиентов.\n",
    "Результаты исследования будут учтены при построении модели кредитного скоринга — специальной системы, которая оценивает способность потенциального заёмщика вернуть кредит банку.\n",
    " </div>"
   ]
  },
  {
   "cell_type": "markdown",
   "id": "ac861a67",
   "metadata": {},
   "source": [
    "### Шаг 1. Обзор данных"
   ]
  },
  {
   "cell_type": "code",
   "execution_count": 1,
   "id": "76feeb77",
   "metadata": {
    "scrolled": true
   },
   "outputs": [],
   "source": [
    "import pandas as pd\n",
    "banki = pd.read_csv('/datasets/data.csv')"
   ]
  },
  {
   "cell_type": "markdown",
   "id": "216b3eb0",
   "metadata": {},
   "source": [
    "<div class=\"alert alert-block alert-success\">\n",
    "    \n",
    "- тут следовало импорт поместить в отдельную ячейку. Было бы импортов несколько - все их в первую ячейку, а уже потом открытие датасета и работа с ним\n",
    "- в следующей ячейке было бы удобнее применить что-нибудь из `head()/tail()/smaple()` для просмотра части датасета"
   ]
  },
  {
   "cell_type": "code",
   "execution_count": 2,
   "id": "3c6f4fb4",
   "metadata": {},
   "outputs": [
    {
     "data": {
      "text/html": [
       "<div>\n",
       "<style scoped>\n",
       "    .dataframe tbody tr th:only-of-type {\n",
       "        vertical-align: middle;\n",
       "    }\n",
       "\n",
       "    .dataframe tbody tr th {\n",
       "        vertical-align: top;\n",
       "    }\n",
       "\n",
       "    .dataframe thead th {\n",
       "        text-align: right;\n",
       "    }\n",
       "</style>\n",
       "<table border=\"1\" class=\"dataframe\">\n",
       "  <thead>\n",
       "    <tr style=\"text-align: right;\">\n",
       "      <th></th>\n",
       "      <th>children</th>\n",
       "      <th>days_employed</th>\n",
       "      <th>dob_years</th>\n",
       "      <th>education</th>\n",
       "      <th>education_id</th>\n",
       "      <th>family_status</th>\n",
       "      <th>family_status_id</th>\n",
       "      <th>gender</th>\n",
       "      <th>income_type</th>\n",
       "      <th>debt</th>\n",
       "      <th>total_income</th>\n",
       "      <th>purpose</th>\n",
       "    </tr>\n",
       "  </thead>\n",
       "  <tbody>\n",
       "    <tr>\n",
       "      <th>0</th>\n",
       "      <td>1</td>\n",
       "      <td>-8437.673028</td>\n",
       "      <td>42</td>\n",
       "      <td>высшее</td>\n",
       "      <td>0</td>\n",
       "      <td>женат / замужем</td>\n",
       "      <td>0</td>\n",
       "      <td>F</td>\n",
       "      <td>сотрудник</td>\n",
       "      <td>0</td>\n",
       "      <td>253875.639453</td>\n",
       "      <td>покупка жилья</td>\n",
       "    </tr>\n",
       "    <tr>\n",
       "      <th>1</th>\n",
       "      <td>1</td>\n",
       "      <td>-4024.803754</td>\n",
       "      <td>36</td>\n",
       "      <td>среднее</td>\n",
       "      <td>1</td>\n",
       "      <td>женат / замужем</td>\n",
       "      <td>0</td>\n",
       "      <td>F</td>\n",
       "      <td>сотрудник</td>\n",
       "      <td>0</td>\n",
       "      <td>112080.014102</td>\n",
       "      <td>приобретение автомобиля</td>\n",
       "    </tr>\n",
       "    <tr>\n",
       "      <th>2</th>\n",
       "      <td>0</td>\n",
       "      <td>-5623.422610</td>\n",
       "      <td>33</td>\n",
       "      <td>Среднее</td>\n",
       "      <td>1</td>\n",
       "      <td>женат / замужем</td>\n",
       "      <td>0</td>\n",
       "      <td>M</td>\n",
       "      <td>сотрудник</td>\n",
       "      <td>0</td>\n",
       "      <td>145885.952297</td>\n",
       "      <td>покупка жилья</td>\n",
       "    </tr>\n",
       "    <tr>\n",
       "      <th>3</th>\n",
       "      <td>3</td>\n",
       "      <td>-4124.747207</td>\n",
       "      <td>32</td>\n",
       "      <td>среднее</td>\n",
       "      <td>1</td>\n",
       "      <td>женат / замужем</td>\n",
       "      <td>0</td>\n",
       "      <td>M</td>\n",
       "      <td>сотрудник</td>\n",
       "      <td>0</td>\n",
       "      <td>267628.550329</td>\n",
       "      <td>дополнительное образование</td>\n",
       "    </tr>\n",
       "    <tr>\n",
       "      <th>4</th>\n",
       "      <td>0</td>\n",
       "      <td>340266.072047</td>\n",
       "      <td>53</td>\n",
       "      <td>среднее</td>\n",
       "      <td>1</td>\n",
       "      <td>гражданский брак</td>\n",
       "      <td>1</td>\n",
       "      <td>F</td>\n",
       "      <td>пенсионер</td>\n",
       "      <td>0</td>\n",
       "      <td>158616.077870</td>\n",
       "      <td>сыграть свадьбу</td>\n",
       "    </tr>\n",
       "    <tr>\n",
       "      <th>...</th>\n",
       "      <td>...</td>\n",
       "      <td>...</td>\n",
       "      <td>...</td>\n",
       "      <td>...</td>\n",
       "      <td>...</td>\n",
       "      <td>...</td>\n",
       "      <td>...</td>\n",
       "      <td>...</td>\n",
       "      <td>...</td>\n",
       "      <td>...</td>\n",
       "      <td>...</td>\n",
       "      <td>...</td>\n",
       "    </tr>\n",
       "    <tr>\n",
       "      <th>21520</th>\n",
       "      <td>1</td>\n",
       "      <td>-4529.316663</td>\n",
       "      <td>43</td>\n",
       "      <td>среднее</td>\n",
       "      <td>1</td>\n",
       "      <td>гражданский брак</td>\n",
       "      <td>1</td>\n",
       "      <td>F</td>\n",
       "      <td>компаньон</td>\n",
       "      <td>0</td>\n",
       "      <td>224791.862382</td>\n",
       "      <td>операции с жильем</td>\n",
       "    </tr>\n",
       "    <tr>\n",
       "      <th>21521</th>\n",
       "      <td>0</td>\n",
       "      <td>343937.404131</td>\n",
       "      <td>67</td>\n",
       "      <td>среднее</td>\n",
       "      <td>1</td>\n",
       "      <td>женат / замужем</td>\n",
       "      <td>0</td>\n",
       "      <td>F</td>\n",
       "      <td>пенсионер</td>\n",
       "      <td>0</td>\n",
       "      <td>155999.806512</td>\n",
       "      <td>сделка с автомобилем</td>\n",
       "    </tr>\n",
       "    <tr>\n",
       "      <th>21522</th>\n",
       "      <td>1</td>\n",
       "      <td>-2113.346888</td>\n",
       "      <td>38</td>\n",
       "      <td>среднее</td>\n",
       "      <td>1</td>\n",
       "      <td>гражданский брак</td>\n",
       "      <td>1</td>\n",
       "      <td>M</td>\n",
       "      <td>сотрудник</td>\n",
       "      <td>1</td>\n",
       "      <td>89672.561153</td>\n",
       "      <td>недвижимость</td>\n",
       "    </tr>\n",
       "    <tr>\n",
       "      <th>21523</th>\n",
       "      <td>3</td>\n",
       "      <td>-3112.481705</td>\n",
       "      <td>38</td>\n",
       "      <td>среднее</td>\n",
       "      <td>1</td>\n",
       "      <td>женат / замужем</td>\n",
       "      <td>0</td>\n",
       "      <td>M</td>\n",
       "      <td>сотрудник</td>\n",
       "      <td>1</td>\n",
       "      <td>244093.050500</td>\n",
       "      <td>на покупку своего автомобиля</td>\n",
       "    </tr>\n",
       "    <tr>\n",
       "      <th>21524</th>\n",
       "      <td>2</td>\n",
       "      <td>-1984.507589</td>\n",
       "      <td>40</td>\n",
       "      <td>среднее</td>\n",
       "      <td>1</td>\n",
       "      <td>женат / замужем</td>\n",
       "      <td>0</td>\n",
       "      <td>F</td>\n",
       "      <td>сотрудник</td>\n",
       "      <td>0</td>\n",
       "      <td>82047.418899</td>\n",
       "      <td>на покупку автомобиля</td>\n",
       "    </tr>\n",
       "  </tbody>\n",
       "</table>\n",
       "<p>21525 rows × 12 columns</p>\n",
       "</div>"
      ],
      "text/plain": [
       "       children  days_employed  dob_years education  education_id  \\\n",
       "0             1   -8437.673028         42    высшее             0   \n",
       "1             1   -4024.803754         36   среднее             1   \n",
       "2             0   -5623.422610         33   Среднее             1   \n",
       "3             3   -4124.747207         32   среднее             1   \n",
       "4             0  340266.072047         53   среднее             1   \n",
       "...         ...            ...        ...       ...           ...   \n",
       "21520         1   -4529.316663         43   среднее             1   \n",
       "21521         0  343937.404131         67   среднее             1   \n",
       "21522         1   -2113.346888         38   среднее             1   \n",
       "21523         3   -3112.481705         38   среднее             1   \n",
       "21524         2   -1984.507589         40   среднее             1   \n",
       "\n",
       "          family_status  family_status_id gender income_type  debt  \\\n",
       "0       женат / замужем                 0      F   сотрудник     0   \n",
       "1       женат / замужем                 0      F   сотрудник     0   \n",
       "2       женат / замужем                 0      M   сотрудник     0   \n",
       "3       женат / замужем                 0      M   сотрудник     0   \n",
       "4      гражданский брак                 1      F   пенсионер     0   \n",
       "...                 ...               ...    ...         ...   ...   \n",
       "21520  гражданский брак                 1      F   компаньон     0   \n",
       "21521   женат / замужем                 0      F   пенсионер     0   \n",
       "21522  гражданский брак                 1      M   сотрудник     1   \n",
       "21523   женат / замужем                 0      M   сотрудник     1   \n",
       "21524   женат / замужем                 0      F   сотрудник     0   \n",
       "\n",
       "        total_income                       purpose  \n",
       "0      253875.639453                 покупка жилья  \n",
       "1      112080.014102       приобретение автомобиля  \n",
       "2      145885.952297                 покупка жилья  \n",
       "3      267628.550329    дополнительное образование  \n",
       "4      158616.077870               сыграть свадьбу  \n",
       "...              ...                           ...  \n",
       "21520  224791.862382             операции с жильем  \n",
       "21521  155999.806512          сделка с автомобилем  \n",
       "21522   89672.561153                  недвижимость  \n",
       "21523  244093.050500  на покупку своего автомобиля  \n",
       "21524   82047.418899         на покупку автомобиля  \n",
       "\n",
       "[21525 rows x 12 columns]"
      ]
     },
     "execution_count": 2,
     "metadata": {},
     "output_type": "execute_result"
    }
   ],
   "source": [
    "banki"
   ]
  },
  {
   "cell_type": "markdown",
   "id": "7561483a",
   "metadata": {},
   "source": [
    "<div class=\"alert alert-block alert-warning\">\n",
    "<b>⚠️ Remarks:</b>\n",
    "    \n",
    "- стоит отделять импорты от открытия датасета. Это делается для того, чтобы иметь возможность в любой момент дописать новые библиотеки, настройки или ключевые константы, перезапустить ячейку с импортами и продолжить работу, не перетирая датасет.\n",
    "- если в аутпут попадает результат только одной функции, то ни `print()`, ни `display()` не нужны - юпитер всё отрисует сам"
   ]
  },
  {
   "cell_type": "markdown",
   "id": "dfbd0a14",
   "metadata": {},
   "source": [
    "### Шаг 2.1 Заполнение пропусков"
   ]
  },
  {
   "cell_type": "markdown",
   "id": "41e6b54e",
   "metadata": {},
   "source": [
    "Беру основные сведения о таблице. Задача: надо выяснить, влияет ли семейное положение и количество детей клиента на факт возврата кредита в срок? В выводе видно что занчения в столбцах days_employed и total_income отличаются от большинства, значит в них есть пропущеные значения. "
   ]
  },
  {
   "cell_type": "code",
   "execution_count": 3,
   "id": "bbb497cd",
   "metadata": {},
   "outputs": [
    {
     "name": "stdout",
     "output_type": "stream",
     "text": [
      "<class 'pandas.core.frame.DataFrame'>\n",
      "RangeIndex: 21525 entries, 0 to 21524\n",
      "Data columns (total 12 columns):\n",
      " #   Column            Non-Null Count  Dtype  \n",
      "---  ------            --------------  -----  \n",
      " 0   children          21525 non-null  int64  \n",
      " 1   days_employed     19351 non-null  float64\n",
      " 2   dob_years         21525 non-null  int64  \n",
      " 3   education         21525 non-null  object \n",
      " 4   education_id      21525 non-null  int64  \n",
      " 5   family_status     21525 non-null  object \n",
      " 6   family_status_id  21525 non-null  int64  \n",
      " 7   gender            21525 non-null  object \n",
      " 8   income_type       21525 non-null  object \n",
      " 9   debt              21525 non-null  int64  \n",
      " 10  total_income      19351 non-null  float64\n",
      " 11  purpose           21525 non-null  object \n",
      "dtypes: float64(2), int64(5), object(5)\n",
      "memory usage: 2.0+ MB\n",
      "Количество пустых значений в кол-ве рабочих дней равно 2174\n",
      "Количество пустых значений в общей прибыли равно 2174\n"
     ]
    }
   ],
   "source": [
    "banki.info() \n",
    "\n",
    "banki_days_employed = banki['children'].count() - banki['days_employed'].count()\n",
    "print(\"Количество пустых значений в кол-ве рабочих дней равно\", banki_days_employed)\n",
    "banki_total_income = banki['children'].count() - banki['total_income'].count()\n",
    "print(\"Количество пустых значений в общей прибыли равно\", banki_total_income)"
   ]
  },
  {
   "cell_type": "code",
   "execution_count": 4,
   "id": "504e524d",
   "metadata": {},
   "outputs": [
    {
     "name": "stdout",
     "output_type": "stream",
     "text": [
      "Доля пустых значений в кол-ве рабочих дней равна: 0.10099883855981417\n",
      "Доля пустых значений в общей прибыли равна: 0.10099883855981417\n"
     ]
    }
   ],
   "source": [
    "#посмотрим что в долях\n",
    "days_employed_skip = banki_days_employed / len(banki)\n",
    "total_income_skip = banki_total_income/ len(banki)\n",
    "\n",
    "print ('Доля пустых значений в кол-ве рабочих дней равна:', days_employed_skip) #нашла долю пустых значений столбца days_employed\n",
    "print ('Доля пустых значений в общей прибыли равна:', total_income_skip) #нашла долю пустых значений столбца total_income"
   ]
  },
  {
   "cell_type": "markdown",
   "id": "682537ae",
   "metadata": {},
   "source": [
    "Странно что это кол-во совпадает. И так же странно что у обоих столбцов тип данных - float64. М.б. в этом проблема? Если бы это были все безработные люди , у них нет работы и поэтому пусто в колонке total_income - то такая гипотеза \n",
    "верна едвали, т.к. у кого то доложен быть доход помимо основной работы. Скорее всего речь об ошибке в БД, поэтому правильнее всего было бы заполнить пропуски медианным значением:"
   ]
  },
  {
   "cell_type": "markdown",
   "id": "c420a3c0",
   "metadata": {},
   "source": [
    "<div class=\"alert alert-block alert-warning\">\n",
    "<b>⚠️ Remarks:</b> \n",
    "    \n",
    "- старайся пояснения к исследованию всегда писать в маркдаун-ячейках. Через # Обычно пишутся технические комментарии к нетривиальным участкам кода\n",
    "- будет лучше разбить код на большее число блоков, перемежающихся маркдаун-ячейками с комментариями"
   ]
  },
  {
   "cell_type": "code",
   "execution_count": 5,
   "id": "7ce48481",
   "metadata": {},
   "outputs": [
    {
     "name": "stdout",
     "output_type": "stream",
     "text": [
      "-1630.0193809778218\n",
      "nan\n"
     ]
    }
   ],
   "source": [
    "days_employed_median = banki[banki['days_employed'] < 0] \n",
    "print(days_employed_median['days_employed'].median())\n",
    "total_income_median = banki[banki['total_income'] < 0]\n",
    "print(total_income_median['total_income'].median())"
   ]
  },
  {
   "cell_type": "markdown",
   "id": "19655175",
   "metadata": {},
   "source": [
    "Вижу отрицательное медианное значение в столбце days_employed, с этим как раз разбираюсь в следующем пункте проекта."
   ]
  },
  {
   "cell_type": "markdown",
   "id": "d64e4b77",
   "metadata": {},
   "source": [
    "<div class=\"alert alert-block alert-warning\">\n",
    "<b>⚠️ Remarks:</b> \n",
    "    \n",
    "давай попробуем заполнить пропуски ориентируясь на какие-нибдуь характеристики заемщиков -- пол/возраст/тип_занятости"
   ]
  },
  {
   "cell_type": "code",
   "execution_count": 6,
   "id": "2aa84da7",
   "metadata": {},
   "outputs": [
    {
     "data": {
      "text/plain": [
       "Index(['children', 'days_employed', 'dob_years', 'education', 'education_id',\n",
       "       'family_status', 'family_status_id', 'gender', 'income_type', 'debt',\n",
       "       'total_income', 'purpose'],\n",
       "      dtype='object')"
      ]
     },
     "execution_count": 6,
     "metadata": {},
     "output_type": "execute_result"
    }
   ],
   "source": [
    "banki.columns #на всякий пожарный посмотрела пробелы"
   ]
  },
  {
   "cell_type": "markdown",
   "id": "91d66e14",
   "metadata": {},
   "source": [
    "### Шаг 2.2 Проверка данных на аномалии и исправления."
   ]
  },
  {
   "cell_type": "markdown",
   "id": "e7570fbc",
   "metadata": {},
   "source": [
    "Ищу аномалии. Итак, проверим на суммарное количество пропусков:"
   ]
  },
  {
   "cell_type": "code",
   "execution_count": 7,
   "id": "9942ba70",
   "metadata": {},
   "outputs": [
    {
     "data": {
      "text/plain": [
       "children               0\n",
       "days_employed       2174\n",
       "dob_years              0\n",
       "education              0\n",
       "education_id           0\n",
       "family_status          0\n",
       "family_status_id       0\n",
       "gender                 0\n",
       "income_type            0\n",
       "debt                   0\n",
       "total_income        2174\n",
       "purpose                0\n",
       "dtype: int64"
      ]
     },
     "execution_count": 7,
     "metadata": {},
     "output_type": "execute_result"
    }
   ],
   "source": [
    "banki.isnull().sum()"
   ]
  },
  {
   "cell_type": "markdown",
   "id": "a42a10c9",
   "metadata": {},
   "source": [
    "По каким-то причинам много пропусков, опять же как писала выше, кол-во рабочих дней - возможно нет работы у человека. \n",
    "Однако в столбце доход - пропуски почти все, это не может быть случайностью, здесь техническая ошибка, инфасотка.\n",
    "Может проблема с записью данных или типа того."
   ]
  },
  {
   "cell_type": "markdown",
   "id": "b5885f8f",
   "metadata": {},
   "source": [
    "Тогда сначала заменю пропущеные значения. Потом смотрю опять что нет пропусков в таблице"
   ]
  },
  {
   "cell_type": "code",
   "execution_count": 8,
   "id": "795bd4fc",
   "metadata": {},
   "outputs": [],
   "source": [
    "banki['days_employed'] = banki['days_employed'].fillna(value = banki['days_employed'].mean())\n",
    "banki['total_income'] = banki['total_income'].fillna(value = banki['total_income'].median())"
   ]
  },
  {
   "cell_type": "code",
   "execution_count": 9,
   "id": "62b35cee",
   "metadata": {},
   "outputs": [
    {
     "data": {
      "text/plain": [
       "children            0\n",
       "days_employed       0\n",
       "dob_years           0\n",
       "education           0\n",
       "education_id        0\n",
       "family_status       0\n",
       "family_status_id    0\n",
       "gender              0\n",
       "income_type         0\n",
       "debt                0\n",
       "total_income        0\n",
       "purpose             0\n",
       "dtype: int64"
      ]
     },
     "execution_count": 9,
     "metadata": {},
     "output_type": "execute_result"
    }
   ],
   "source": [
    "banki.isnull().sum() # О, нормас теперь"
   ]
  },
  {
   "cell_type": "code",
   "execution_count": 10,
   "id": "6a33172a",
   "metadata": {},
   "outputs": [
    {
     "name": "stdout",
     "output_type": "stream",
     "text": [
      " 0     14149\n",
      " 1      4818\n",
      " 2      2055\n",
      " 3       330\n",
      " 20       76\n",
      "-1        47\n",
      " 4        41\n",
      " 5         9\n",
      "Name: children, dtype: int64\n",
      " 63046.497661     2174\n",
      "-327.685916          1\n",
      "-2186.168272         1\n",
      "-1580.622577         1\n",
      " 361900.083341       1\n",
      "                  ... \n",
      "-7120.517564         1\n",
      "-2146.884040         1\n",
      "-881.454684          1\n",
      "-794.666350          1\n",
      "-3382.113891         1\n",
      "Name: days_employed, Length: 19352, dtype: int64\n",
      "35    617\n",
      "40    609\n",
      "41    607\n",
      "34    603\n",
      "38    598\n",
      "42    597\n",
      "33    581\n",
      "39    573\n",
      "31    560\n",
      "36    555\n",
      "44    547\n",
      "29    545\n",
      "30    540\n",
      "48    538\n",
      "37    537\n",
      "50    514\n",
      "43    513\n",
      "32    510\n",
      "49    508\n",
      "28    503\n",
      "45    497\n",
      "27    493\n",
      "56    487\n",
      "52    484\n",
      "47    480\n",
      "54    479\n",
      "46    475\n",
      "58    461\n",
      "57    460\n",
      "53    459\n",
      "51    448\n",
      "59    444\n",
      "55    443\n",
      "26    408\n",
      "60    377\n",
      "25    357\n",
      "61    355\n",
      "62    352\n",
      "63    269\n",
      "64    265\n",
      "24    264\n",
      "23    254\n",
      "65    194\n",
      "66    183\n",
      "22    183\n",
      "67    167\n",
      "21    111\n",
      "0     101\n",
      "68     99\n",
      "69     85\n",
      "70     65\n",
      "71     58\n",
      "20     51\n",
      "72     33\n",
      "19     14\n",
      "73      8\n",
      "74      6\n",
      "75      1\n",
      "Name: dob_years, dtype: int64\n",
      "среднее                13750\n",
      "высшее                  4718\n",
      "СРЕДНЕЕ                  772\n",
      "Среднее                  711\n",
      "неоконченное высшее      668\n",
      "ВЫСШЕЕ                   274\n",
      "Высшее                   268\n",
      "начальное                250\n",
      "Неоконченное высшее       47\n",
      "НЕОКОНЧЕННОЕ ВЫСШЕЕ       29\n",
      "НАЧАЛЬНОЕ                 17\n",
      "Начальное                 15\n",
      "ученая степень             4\n",
      "Ученая степень             1\n",
      "УЧЕНАЯ СТЕПЕНЬ             1\n",
      "Name: education, dtype: int64\n",
      "1    15233\n",
      "0     5260\n",
      "2      744\n",
      "3      282\n",
      "4        6\n",
      "Name: education_id, dtype: int64\n",
      "женат / замужем          12380\n",
      "гражданский брак          4177\n",
      "Не женат / не замужем     2813\n",
      "в разводе                 1195\n",
      "вдовец / вдова             960\n",
      "Name: family_status, dtype: int64\n",
      "0    12380\n",
      "1     4177\n",
      "4     2813\n",
      "3     1195\n",
      "2      960\n",
      "Name: family_status_id, dtype: int64\n",
      "F      14236\n",
      "M       7288\n",
      "XNA        1\n",
      "Name: gender, dtype: int64\n",
      "сотрудник          11119\n",
      "компаньон           5085\n",
      "пенсионер           3856\n",
      "госслужащий         1459\n",
      "предприниматель        2\n",
      "безработный            2\n",
      "в декрете              1\n",
      "студент                1\n",
      "Name: income_type, dtype: int64\n",
      "0    19784\n",
      "1     1741\n",
      "Name: debt, dtype: int64\n",
      "145017.937533    2175\n",
      "106196.235958       1\n",
      "45654.214129        1\n",
      "132775.748481       1\n",
      "127240.919486       1\n",
      "                 ... \n",
      "239154.168013       1\n",
      "165009.733021       1\n",
      "94270.049769        1\n",
      "68166.012050        1\n",
      "189255.286637       1\n",
      "Name: total_income, Length: 19351, dtype: int64\n",
      "свадьба                                   797\n",
      "на проведение свадьбы                     777\n",
      "сыграть свадьбу                           774\n",
      "операции с недвижимостью                  676\n",
      "покупка коммерческой недвижимости         664\n",
      "операции с жильем                         653\n",
      "покупка жилья для сдачи                   653\n",
      "операции с коммерческой недвижимостью     651\n",
      "жилье                                     647\n",
      "покупка жилья                             647\n",
      "покупка жилья для семьи                   641\n",
      "строительство собственной недвижимости    635\n",
      "недвижимость                              634\n",
      "операции со своей недвижимостью           630\n",
      "строительство жилой недвижимости          626\n",
      "покупка недвижимости                      624\n",
      "покупка своего жилья                      620\n",
      "строительство недвижимости                620\n",
      "ремонт жилью                              612\n",
      "покупка жилой недвижимости                607\n",
      "на покупку своего автомобиля              505\n",
      "заняться высшим образованием              496\n",
      "автомобиль                                495\n",
      "сделка с подержанным автомобилем          489\n",
      "свой автомобиль                           480\n",
      "на покупку подержанного автомобиля        479\n",
      "автомобили                                478\n",
      "на покупку автомобиля                     472\n",
      "дополнительное образование                462\n",
      "приобретение автомобиля                   462\n",
      "сделка с автомобилем                      455\n",
      "высшее образование                        453\n",
      "получение дополнительного образования     447\n",
      "образование                               447\n",
      "получение образования                     443\n",
      "профильное образование                    436\n",
      "получение высшего образования             426\n",
      "заняться образованием                     412\n",
      "Name: purpose, dtype: int64\n"
     ]
    }
   ],
   "source": [
    "for row in banki: \n",
    "  print(banki[row].value_counts())"
   ]
  },
  {
   "cell_type": "markdown",
   "id": "4c113771",
   "metadata": {},
   "source": [
    "Выводы:\n",
    "\"children\" есть значения \"20\" и -1, поменять на 2 и 1 соответственно.\n",
    "\"days_employed\" есть отрицательные значения. Надо изменить чтоб было только Int.Пропущено 19352\n",
    "\"education\" названия задублированы, надо привести к единому регистру.\n",
    "\"gender\"  пропущеные  \n",
    "\"total_income\". Пропущенные значения (19352) - пока хз как их вставить\n",
    "\"education\"  дубликаты, привести к одному регистру."
   ]
  },
  {
   "cell_type": "code",
   "execution_count": 11,
   "id": "573f1144",
   "metadata": {},
   "outputs": [
    {
     "data": {
      "text/plain": [
       "children\n",
       "0    14149\n",
       "1     4865\n",
       "2     2131\n",
       "3      330\n",
       "4       41\n",
       "5        9\n",
       "Name: income_type, dtype: int64"
      ]
     },
     "execution_count": 11,
     "metadata": {},
     "output_type": "execute_result"
    }
   ],
   "source": [
    "# children\n",
    "banki['children'] = banki['children'].replace(20, 2)\n",
    "banki['children'] = banki['children'].replace(-1, 1)\n",
    "banki.groupby('children')['income_type'].count()"
   ]
  },
  {
   "cell_type": "markdown",
   "id": "ffd2f8ae",
   "metadata": {},
   "source": [
    "<div class=\"alert alert-block alert-success\">\n",
    "<b>✔️ Success:</b> замечательно!"
   ]
  },
  {
   "cell_type": "code",
   "execution_count": 12,
   "id": "52ac7f61",
   "metadata": {},
   "outputs": [
    {
     "name": "stdout",
     "output_type": "stream",
     "text": [
      "<class 'pandas.core.frame.DataFrame'>\n",
      "RangeIndex: 21525 entries, 0 to 21524\n",
      "Data columns (total 12 columns):\n",
      " #   Column            Non-Null Count  Dtype  \n",
      "---  ------            --------------  -----  \n",
      " 0   children          21525 non-null  int64  \n",
      " 1   days_employed     21525 non-null  int64  \n",
      " 2   dob_years         21525 non-null  int64  \n",
      " 3   education         21525 non-null  object \n",
      " 4   education_id      21525 non-null  int64  \n",
      " 5   family_status     21525 non-null  object \n",
      " 6   family_status_id  21525 non-null  int64  \n",
      " 7   gender            21525 non-null  object \n",
      " 8   income_type       21525 non-null  object \n",
      " 9   debt              21525 non-null  int64  \n",
      " 10  total_income      21525 non-null  float64\n",
      " 11  purpose           21525 non-null  object \n",
      "dtypes: float64(1), int64(6), object(5)\n",
      "memory usage: 2.0+ MB\n"
     ]
    }
   ],
   "source": [
    "# days_employed\n",
    "\n",
    "banki['days_employed'] = banki['days_employed'].astype('int') #перевожу в инт\n",
    "banki['days_employed'] = banki['days_employed'].abs() #убираю отрицательные значения\n",
    "banki.info()"
   ]
  },
  {
   "cell_type": "code",
   "execution_count": 13,
   "id": "43b75b53",
   "metadata": {},
   "outputs": [
    {
     "data": {
      "text/plain": [
       "0       8437\n",
       "1       4024\n",
       "2       5623\n",
       "3       4124\n",
       "4     340266\n",
       "5        926\n",
       "6       2879\n",
       "7        152\n",
       "8       6929\n",
       "9       2188\n",
       "10      4171\n",
       "11       792\n",
       "12     63046\n",
       "13      1846\n",
       "14      1844\n",
       "15       972\n",
       "16      1719\n",
       "17      2369\n",
       "18    400281\n",
       "19     10038\n",
       "Name: days_employed, dtype: int64"
      ]
     },
     "execution_count": 13,
     "metadata": {},
     "output_type": "execute_result"
    }
   ],
   "source": [
    "banki['days_employed'].head(20)"
   ]
  },
  {
   "cell_type": "code",
   "execution_count": 14,
   "id": "12a02f41",
   "metadata": {},
   "outputs": [
    {
     "data": {
      "text/plain": [
       "gender\n",
       "F    14236\n",
       "M     7288\n",
       "Name: income_type, dtype: int64"
      ]
     },
     "execution_count": 14,
     "metadata": {},
     "output_type": "execute_result"
    }
   ],
   "source": [
    "# Gender\n",
    "# количество пропущенных значений:\n",
    "banki[banki['gender'] == 'XNA'].count()\n",
    "# исключу  \n",
    "banki = banki[banki['gender'] != 'XNA']\n",
    "banki.groupby('gender')['income_type'].count()"
   ]
  },
  {
   "cell_type": "code",
   "execution_count": 43,
   "id": "fdd2dec0",
   "metadata": {},
   "outputs": [
    {
     "name": "stdout",
     "output_type": "stream",
     "text": [
      "<class 'pandas.core.frame.DataFrame'>\n",
      "RangeIndex: 21453 entries, 0 to 21452\n",
      "Data columns (total 15 columns):\n",
      " #   Column                 Non-Null Count  Dtype \n",
      "---  ------                 --------------  ----- \n",
      " 0   children               21453 non-null  int64 \n",
      " 1   days_employed          21453 non-null  int64 \n",
      " 2   dob_years              21453 non-null  int64 \n",
      " 3   education              21453 non-null  object\n",
      " 4   education_id           21453 non-null  int64 \n",
      " 5   family_status          21453 non-null  object\n",
      " 6   family_status_id       21453 non-null  int64 \n",
      " 7   gender                 21453 non-null  object\n",
      " 8   income_type            21453 non-null  object\n",
      " 9   debt                   21453 non-null  int64 \n",
      " 10  total_income           21453 non-null  int64 \n",
      " 11  purpose                21453 non-null  object\n",
      " 12  total_income_category  21452 non-null  object\n",
      " 13  purpose_category       21453 non-null  object\n",
      " 14  type_of_family         21453 non-null  object\n",
      "dtypes: int64(7), object(8)\n",
      "memory usage: 2.5+ MB\n"
     ]
    }
   ],
   "source": [
    "# total_income\n",
    "# пропущенные значения - оставлю пока хз как делать\n",
    "pivot_table_total_income = banki.pivot_table(index=['dob_years'],\n",
    "                                    columns = 'gender',\n",
    "                                    values = 'total_income',\n",
    "                                    aggfunc='median')\n",
    "\n",
    "def fillna_in_total_income(banki):\n",
    "    gender = banki['gender']\n",
    "    age = banki['dob_years']\n",
    "    if pd.isnull(banki['total_income']):\n",
    "        return pivot_table_total_income.loc[age,gender]\n",
    "    else:\n",
    "        return banki['total_income']\n",
    "    \n",
    "    \n",
    "banki['total_income'] = banki.apply(fillna_in_total_income, axis = 1)\n",
    "banki.groupby('total_income')['income_type'].count()\n",
    "banki.info()"
   ]
  },
  {
   "cell_type": "code",
   "execution_count": 44,
   "id": "21fbaea7",
   "metadata": {},
   "outputs": [
    {
     "data": {
      "text/plain": [
       "education\n",
       "высшее                  5250\n",
       "начальное                282\n",
       "неоконченное высшее      743\n",
       "среднее                15172\n",
       "ученая степень             6\n",
       "Name: income_type, dtype: int64"
      ]
     },
     "execution_count": 44,
     "metadata": {},
     "output_type": "execute_result"
    }
   ],
   "source": [
    "\n",
    "# education \n",
    "# к одному регистру\n",
    "banki['education'] = banki['education'].str.lower()\n",
    "# теперь 5 уникальных значений\n",
    "banki['education'].unique()\n",
    "banki.groupby('education')['income_type'].count()"
   ]
  },
  {
   "cell_type": "markdown",
   "id": "f6fba281",
   "metadata": {},
   "source": [
    "<div class=\"alert alert-block alert-success\">\n",
    "<b>✔️ Success:</b> правильно, избавились от неявных дубликатов"
   ]
  },
  {
   "cell_type": "markdown",
   "id": "47216916",
   "metadata": {},
   "source": [
    "### Шаг 2.3. Изменение типов данных."
   ]
  },
  {
   "cell_type": "markdown",
   "id": "6cd5f27f",
   "metadata": {},
   "source": [
    "Для изменения типа данных используем метод astype() так как нам нужно изменить float на int64"
   ]
  },
  {
   "cell_type": "code",
   "execution_count": 46,
   "id": "6f984cb8",
   "metadata": {},
   "outputs": [],
   "source": [
    "# Изменим значения столбца total_income в числовой тип int64 (целое число) \n",
    "banki['total_income'] = banki['total_income'].astype('int')"
   ]
  },
  {
   "cell_type": "code",
   "execution_count": 48,
   "id": "469f0cee",
   "metadata": {},
   "outputs": [
    {
     "name": "stdout",
     "output_type": "stream",
     "text": [
      "<class 'pandas.core.frame.DataFrame'>\n",
      "RangeIndex: 21453 entries, 0 to 21452\n",
      "Data columns (total 15 columns):\n",
      " #   Column                 Non-Null Count  Dtype \n",
      "---  ------                 --------------  ----- \n",
      " 0   children               21453 non-null  int64 \n",
      " 1   days_employed          21453 non-null  int64 \n",
      " 2   dob_years              21453 non-null  int64 \n",
      " 3   education              21453 non-null  object\n",
      " 4   education_id           21453 non-null  int64 \n",
      " 5   family_status          21453 non-null  object\n",
      " 6   family_status_id       21453 non-null  int64 \n",
      " 7   gender                 21453 non-null  object\n",
      " 8   income_type            21453 non-null  object\n",
      " 9   debt                   21453 non-null  int64 \n",
      " 10  total_income           21453 non-null  int64 \n",
      " 11  purpose                21453 non-null  object\n",
      " 12  total_income_category  21452 non-null  object\n",
      " 13  purpose_category       21453 non-null  object\n",
      " 14  type_of_family         21453 non-null  object\n",
      "dtypes: int64(7), object(8)\n",
      "memory usage: 2.5+ MB\n"
     ]
    }
   ],
   "source": [
    "# Изучим \n",
    "banki.info()"
   ]
  },
  {
   "cell_type": "markdown",
   "id": "e5a93e9f",
   "metadata": {},
   "source": [
    "<div class=\"alert alert-block alert-warning\">\n",
    "<b>⚠️ Remarks:</b>\n",
    "    \n",
    "Потенциал для эффективного изменения типов тут очень широк.\n",
    "    \n",
    "Давай я дам тебе две классные статьи, а ты попробуешь изменить типы данных на еще более подходящие и замеришь, сколько памяти в % ты сэкономишь:\n",
    "    \n",
    "https://pyprog.pro/data_types.html\n",
    "    \n",
    "https://habr.com/ru/company/ruvds/blog/442516/"
   ]
  },
  {
   "cell_type": "code",
   "execution_count": 49,
   "id": "485cd37c",
   "metadata": {},
   "outputs": [
    {
     "name": "stdout",
     "output_type": "stream",
     "text": [
      "<class 'pandas.core.frame.DataFrame'>\n",
      "RangeIndex: 21453 entries, 0 to 21452\n",
      "Data columns (total 15 columns):\n",
      " #   Column                 Non-Null Count  Dtype \n",
      "---  ------                 --------------  ----- \n",
      " 0   children               21453 non-null  int64 \n",
      " 1   days_employed          21453 non-null  int64 \n",
      " 2   dob_years              21453 non-null  int64 \n",
      " 3   education              21453 non-null  object\n",
      " 4   education_id           21453 non-null  int64 \n",
      " 5   family_status          21453 non-null  object\n",
      " 6   family_status_id       21453 non-null  int64 \n",
      " 7   gender                 21453 non-null  object\n",
      " 8   income_type            21453 non-null  object\n",
      " 9   debt                   21453 non-null  int64 \n",
      " 10  total_income           21453 non-null  int64 \n",
      " 11  purpose                21453 non-null  object\n",
      " 12  total_income_category  21452 non-null  object\n",
      " 13  purpose_category       21453 non-null  object\n",
      " 14  type_of_family         21453 non-null  object\n",
      "dtypes: int64(7), object(8)\n",
      "memory usage: 2.5+ MB\n"
     ]
    }
   ],
   "source": [
    "banki.info()\n",
    "# <получение общей информации о данных таблицы df>"
   ]
  },
  {
   "cell_type": "code",
   "execution_count": 50,
   "id": "3ff31975",
   "metadata": {},
   "outputs": [
    {
     "name": "stdout",
     "output_type": "stream",
     "text": [
      "<class 'pandas.core.frame.DataFrame'>\n",
      "RangeIndex: 21453 entries, 0 to 21452\n",
      "Data columns (total 15 columns):\n",
      " #   Column                 Non-Null Count  Dtype \n",
      "---  ------                 --------------  ----- \n",
      " 0   children               21453 non-null  int64 \n",
      " 1   days_employed          21453 non-null  int64 \n",
      " 2   dob_years              21453 non-null  int64 \n",
      " 3   education              21453 non-null  object\n",
      " 4   education_id           21453 non-null  int64 \n",
      " 5   family_status          21453 non-null  object\n",
      " 6   family_status_id       21453 non-null  int64 \n",
      " 7   gender                 21453 non-null  object\n",
      " 8   income_type            21453 non-null  object\n",
      " 9   debt                   21453 non-null  int64 \n",
      " 10  total_income           21453 non-null  int64 \n",
      " 11  purpose                21453 non-null  object\n",
      " 12  total_income_category  21452 non-null  object\n",
      " 13  purpose_category       21453 non-null  object\n",
      " 14  type_of_family         21453 non-null  object\n",
      "dtypes: int64(7), object(8)\n",
      "memory usage: 2.5+ MB\n"
     ]
    }
   ],
   "source": [
    "banki['dob_years'] = banki['dob_years'].astype('int')\n",
    "banki.info()"
   ]
  },
  {
   "cell_type": "code",
   "execution_count": 51,
   "id": "d2f0a530",
   "metadata": {},
   "outputs": [],
   "source": [
    "#Вроде получше стало, да?"
   ]
  },
  {
   "cell_type": "markdown",
   "id": "9a0554fe",
   "metadata": {},
   "source": [
    "<div class=\"alert alert-block alert-success\">\n",
    "да, но есть еще потенциал - можно уменьшить разрядность числовых столбцов и прмиенить тип category для строк\n",
    "    "
   ]
  },
  {
   "cell_type": "markdown",
   "id": "ef663578",
   "metadata": {},
   "source": [
    "### Шаг 2.4. Удаление дубликатов."
   ]
  },
  {
   "cell_type": "code",
   "execution_count": 20,
   "id": "11ded9f3",
   "metadata": {},
   "outputs": [
    {
     "data": {
      "text/plain": [
       "71"
      ]
     },
     "execution_count": 20,
     "metadata": {},
     "output_type": "execute_result"
    }
   ],
   "source": [
    "banki.duplicated().sum() # дубликатов полно конечно тут у вас ))"
   ]
  },
  {
   "cell_type": "markdown",
   "id": "c5bcf2a8",
   "metadata": {},
   "source": [
    "<div class=\"alert alert-block alert-warning\">\n",
    "<b>⚠️ Remarks:</b>\n",
    "    \n",
    "это не ошибка, но важно понимать, что  у нас нет никакого уникального идентификатора строки в датасете => мы не можем с уверенностью сказать, дубликаты этоиил совпадения"
   ]
  },
  {
   "cell_type": "code",
   "execution_count": 21,
   "id": "071721bc",
   "metadata": {},
   "outputs": [],
   "source": [
    "banki = banki.drop_duplicates().reset_index(drop=True) # удаляю"
   ]
  },
  {
   "cell_type": "code",
   "execution_count": 22,
   "id": "2383f8b3",
   "metadata": {},
   "outputs": [
    {
     "data": {
      "text/plain": [
       "0"
      ]
     },
     "execution_count": 22,
     "metadata": {},
     "output_type": "execute_result"
    }
   ],
   "source": [
    "banki.duplicated().sum() # жить можно"
   ]
  },
  {
   "cell_type": "markdown",
   "id": "8541855c",
   "metadata": {},
   "source": [
    "### Шаг 2.5. Формирование дополнительных датафреймов словарей, декомпозиция исходного датафрейма."
   ]
  },
  {
   "cell_type": "code",
   "execution_count": 23,
   "id": "26561ac5",
   "metadata": {},
   "outputs": [
    {
     "data": {
      "text/html": [
       "<div>\n",
       "<style scoped>\n",
       "    .dataframe tbody tr th:only-of-type {\n",
       "        vertical-align: middle;\n",
       "    }\n",
       "\n",
       "    .dataframe tbody tr th {\n",
       "        vertical-align: top;\n",
       "    }\n",
       "\n",
       "    .dataframe thead th {\n",
       "        text-align: right;\n",
       "    }\n",
       "</style>\n",
       "<table border=\"1\" class=\"dataframe\">\n",
       "  <thead>\n",
       "    <tr style=\"text-align: right;\">\n",
       "      <th></th>\n",
       "      <th>education_id</th>\n",
       "    </tr>\n",
       "  </thead>\n",
       "  <tbody>\n",
       "    <tr>\n",
       "      <th>0</th>\n",
       "      <td>0</td>\n",
       "    </tr>\n",
       "    <tr>\n",
       "      <th>1</th>\n",
       "      <td>3</td>\n",
       "    </tr>\n",
       "    <tr>\n",
       "      <th>2</th>\n",
       "      <td>2</td>\n",
       "    </tr>\n",
       "    <tr>\n",
       "      <th>3</th>\n",
       "      <td>1</td>\n",
       "    </tr>\n",
       "    <tr>\n",
       "      <th>4</th>\n",
       "      <td>4</td>\n",
       "    </tr>\n",
       "  </tbody>\n",
       "</table>\n",
       "</div>"
      ],
      "text/plain": [
       "   education_id\n",
       "0             0\n",
       "1             3\n",
       "2             2\n",
       "3             1\n",
       "4             4"
      ]
     },
     "execution_count": 23,
     "metadata": {},
     "output_type": "execute_result"
    }
   ],
   "source": [
    "# иду по заданию, создаю датафреймы\n",
    "education = banki[['education','education_id']]\n",
    "education = education.sort_values('education').groupby('education').mean().reset_index()\n",
    "education = education.drop('education', 1) #зачем то удаляем столбец, смысл этого мне пока непонятен, но делаю по заданию конечно, а то вы потом скажете почему не сделали\n",
    "education"
   ]
  },
  {
   "cell_type": "code",
   "execution_count": 24,
   "id": "46682232",
   "metadata": {},
   "outputs": [
    {
     "data": {
      "text/html": [
       "<div>\n",
       "<style scoped>\n",
       "    .dataframe tbody tr th:only-of-type {\n",
       "        vertical-align: middle;\n",
       "    }\n",
       "\n",
       "    .dataframe tbody tr th {\n",
       "        vertical-align: top;\n",
       "    }\n",
       "\n",
       "    .dataframe thead th {\n",
       "        text-align: right;\n",
       "    }\n",
       "</style>\n",
       "<table border=\"1\" class=\"dataframe\">\n",
       "  <thead>\n",
       "    <tr style=\"text-align: right;\">\n",
       "      <th></th>\n",
       "      <th>family_status_id</th>\n",
       "    </tr>\n",
       "  </thead>\n",
       "  <tbody>\n",
       "    <tr>\n",
       "      <th>0</th>\n",
       "      <td>4</td>\n",
       "    </tr>\n",
       "    <tr>\n",
       "      <th>1</th>\n",
       "      <td>3</td>\n",
       "    </tr>\n",
       "    <tr>\n",
       "      <th>2</th>\n",
       "      <td>2</td>\n",
       "    </tr>\n",
       "    <tr>\n",
       "      <th>3</th>\n",
       "      <td>1</td>\n",
       "    </tr>\n",
       "    <tr>\n",
       "      <th>4</th>\n",
       "      <td>0</td>\n",
       "    </tr>\n",
       "  </tbody>\n",
       "</table>\n",
       "</div>"
      ],
      "text/plain": [
       "   family_status_id\n",
       "0                 4\n",
       "1                 3\n",
       "2                 2\n",
       "3                 1\n",
       "4                 0"
      ]
     },
     "execution_count": 24,
     "metadata": {},
     "output_type": "execute_result"
    }
   ],
   "source": [
    "family = banki[['family_status','family_status_id']]\n",
    "family = family.sort_values('family_status').groupby('family_status').mean().reset_index()\n",
    "family = family.drop('family_status', 1)\n",
    "family"
   ]
  },
  {
   "cell_type": "code",
   "execution_count": 25,
   "id": "efc095af",
   "metadata": {},
   "outputs": [],
   "source": [
    "#Категоризация дохода"
   ]
  },
  {
   "cell_type": "code",
   "execution_count": 26,
   "id": "d79d1e74",
   "metadata": {},
   "outputs": [
    {
     "data": {
      "text/html": [
       "<div>\n",
       "<style scoped>\n",
       "    .dataframe tbody tr th:only-of-type {\n",
       "        vertical-align: middle;\n",
       "    }\n",
       "\n",
       "    .dataframe tbody tr th {\n",
       "        vertical-align: top;\n",
       "    }\n",
       "\n",
       "    .dataframe thead th {\n",
       "        text-align: right;\n",
       "    }\n",
       "</style>\n",
       "<table border=\"1\" class=\"dataframe\">\n",
       "  <thead>\n",
       "    <tr style=\"text-align: right;\">\n",
       "      <th></th>\n",
       "      <th>children</th>\n",
       "      <th>days_employed</th>\n",
       "      <th>dob_years</th>\n",
       "      <th>education</th>\n",
       "      <th>education_id</th>\n",
       "      <th>family_status</th>\n",
       "      <th>family_status_id</th>\n",
       "      <th>gender</th>\n",
       "      <th>income_type</th>\n",
       "      <th>debt</th>\n",
       "      <th>total_income</th>\n",
       "      <th>purpose</th>\n",
       "      <th>total_income_category</th>\n",
       "    </tr>\n",
       "  </thead>\n",
       "  <tbody>\n",
       "    <tr>\n",
       "      <th>0</th>\n",
       "      <td>1</td>\n",
       "      <td>8437</td>\n",
       "      <td>42</td>\n",
       "      <td>высшее</td>\n",
       "      <td>0</td>\n",
       "      <td>женат / замужем</td>\n",
       "      <td>0</td>\n",
       "      <td>F</td>\n",
       "      <td>сотрудник</td>\n",
       "      <td>0</td>\n",
       "      <td>253875</td>\n",
       "      <td>покупка жилья</td>\n",
       "      <td>B</td>\n",
       "    </tr>\n",
       "    <tr>\n",
       "      <th>1</th>\n",
       "      <td>1</td>\n",
       "      <td>4024</td>\n",
       "      <td>36</td>\n",
       "      <td>среднее</td>\n",
       "      <td>1</td>\n",
       "      <td>женат / замужем</td>\n",
       "      <td>0</td>\n",
       "      <td>F</td>\n",
       "      <td>сотрудник</td>\n",
       "      <td>0</td>\n",
       "      <td>112080</td>\n",
       "      <td>приобретение автомобиля</td>\n",
       "      <td>C</td>\n",
       "    </tr>\n",
       "    <tr>\n",
       "      <th>2</th>\n",
       "      <td>0</td>\n",
       "      <td>5623</td>\n",
       "      <td>33</td>\n",
       "      <td>среднее</td>\n",
       "      <td>1</td>\n",
       "      <td>женат / замужем</td>\n",
       "      <td>0</td>\n",
       "      <td>M</td>\n",
       "      <td>сотрудник</td>\n",
       "      <td>0</td>\n",
       "      <td>145885</td>\n",
       "      <td>покупка жилья</td>\n",
       "      <td>C</td>\n",
       "    </tr>\n",
       "    <tr>\n",
       "      <th>3</th>\n",
       "      <td>3</td>\n",
       "      <td>4124</td>\n",
       "      <td>32</td>\n",
       "      <td>среднее</td>\n",
       "      <td>1</td>\n",
       "      <td>женат / замужем</td>\n",
       "      <td>0</td>\n",
       "      <td>M</td>\n",
       "      <td>сотрудник</td>\n",
       "      <td>0</td>\n",
       "      <td>267628</td>\n",
       "      <td>дополнительное образование</td>\n",
       "      <td>B</td>\n",
       "    </tr>\n",
       "    <tr>\n",
       "      <th>4</th>\n",
       "      <td>0</td>\n",
       "      <td>340266</td>\n",
       "      <td>53</td>\n",
       "      <td>среднее</td>\n",
       "      <td>1</td>\n",
       "      <td>гражданский брак</td>\n",
       "      <td>1</td>\n",
       "      <td>F</td>\n",
       "      <td>пенсионер</td>\n",
       "      <td>0</td>\n",
       "      <td>158616</td>\n",
       "      <td>сыграть свадьбу</td>\n",
       "      <td>C</td>\n",
       "    </tr>\n",
       "    <tr>\n",
       "      <th>...</th>\n",
       "      <td>...</td>\n",
       "      <td>...</td>\n",
       "      <td>...</td>\n",
       "      <td>...</td>\n",
       "      <td>...</td>\n",
       "      <td>...</td>\n",
       "      <td>...</td>\n",
       "      <td>...</td>\n",
       "      <td>...</td>\n",
       "      <td>...</td>\n",
       "      <td>...</td>\n",
       "      <td>...</td>\n",
       "      <td>...</td>\n",
       "    </tr>\n",
       "    <tr>\n",
       "      <th>21448</th>\n",
       "      <td>1</td>\n",
       "      <td>4529</td>\n",
       "      <td>43</td>\n",
       "      <td>среднее</td>\n",
       "      <td>1</td>\n",
       "      <td>гражданский брак</td>\n",
       "      <td>1</td>\n",
       "      <td>F</td>\n",
       "      <td>компаньон</td>\n",
       "      <td>0</td>\n",
       "      <td>224791</td>\n",
       "      <td>операции с жильем</td>\n",
       "      <td>B</td>\n",
       "    </tr>\n",
       "    <tr>\n",
       "      <th>21449</th>\n",
       "      <td>0</td>\n",
       "      <td>343937</td>\n",
       "      <td>67</td>\n",
       "      <td>среднее</td>\n",
       "      <td>1</td>\n",
       "      <td>женат / замужем</td>\n",
       "      <td>0</td>\n",
       "      <td>F</td>\n",
       "      <td>пенсионер</td>\n",
       "      <td>0</td>\n",
       "      <td>155999</td>\n",
       "      <td>сделка с автомобилем</td>\n",
       "      <td>C</td>\n",
       "    </tr>\n",
       "    <tr>\n",
       "      <th>21450</th>\n",
       "      <td>1</td>\n",
       "      <td>2113</td>\n",
       "      <td>38</td>\n",
       "      <td>среднее</td>\n",
       "      <td>1</td>\n",
       "      <td>гражданский брак</td>\n",
       "      <td>1</td>\n",
       "      <td>M</td>\n",
       "      <td>сотрудник</td>\n",
       "      <td>1</td>\n",
       "      <td>89672</td>\n",
       "      <td>недвижимость</td>\n",
       "      <td>C</td>\n",
       "    </tr>\n",
       "    <tr>\n",
       "      <th>21451</th>\n",
       "      <td>3</td>\n",
       "      <td>3112</td>\n",
       "      <td>38</td>\n",
       "      <td>среднее</td>\n",
       "      <td>1</td>\n",
       "      <td>женат / замужем</td>\n",
       "      <td>0</td>\n",
       "      <td>M</td>\n",
       "      <td>сотрудник</td>\n",
       "      <td>1</td>\n",
       "      <td>244093</td>\n",
       "      <td>на покупку своего автомобиля</td>\n",
       "      <td>B</td>\n",
       "    </tr>\n",
       "    <tr>\n",
       "      <th>21452</th>\n",
       "      <td>2</td>\n",
       "      <td>1984</td>\n",
       "      <td>40</td>\n",
       "      <td>среднее</td>\n",
       "      <td>1</td>\n",
       "      <td>женат / замужем</td>\n",
       "      <td>0</td>\n",
       "      <td>F</td>\n",
       "      <td>сотрудник</td>\n",
       "      <td>0</td>\n",
       "      <td>82047</td>\n",
       "      <td>на покупку автомобиля</td>\n",
       "      <td>C</td>\n",
       "    </tr>\n",
       "  </tbody>\n",
       "</table>\n",
       "<p>21453 rows × 13 columns</p>\n",
       "</div>"
      ],
      "text/plain": [
       "       children  days_employed  dob_years education  education_id  \\\n",
       "0             1           8437         42    высшее             0   \n",
       "1             1           4024         36   среднее             1   \n",
       "2             0           5623         33   среднее             1   \n",
       "3             3           4124         32   среднее             1   \n",
       "4             0         340266         53   среднее             1   \n",
       "...         ...            ...        ...       ...           ...   \n",
       "21448         1           4529         43   среднее             1   \n",
       "21449         0         343937         67   среднее             1   \n",
       "21450         1           2113         38   среднее             1   \n",
       "21451         3           3112         38   среднее             1   \n",
       "21452         2           1984         40   среднее             1   \n",
       "\n",
       "          family_status  family_status_id gender income_type  debt  \\\n",
       "0       женат / замужем                 0      F   сотрудник     0   \n",
       "1       женат / замужем                 0      F   сотрудник     0   \n",
       "2       женат / замужем                 0      M   сотрудник     0   \n",
       "3       женат / замужем                 0      M   сотрудник     0   \n",
       "4      гражданский брак                 1      F   пенсионер     0   \n",
       "...                 ...               ...    ...         ...   ...   \n",
       "21448  гражданский брак                 1      F   компаньон     0   \n",
       "21449   женат / замужем                 0      F   пенсионер     0   \n",
       "21450  гражданский брак                 1      M   сотрудник     1   \n",
       "21451   женат / замужем                 0      M   сотрудник     1   \n",
       "21452   женат / замужем                 0      F   сотрудник     0   \n",
       "\n",
       "       total_income                       purpose total_income_category  \n",
       "0            253875                 покупка жилья                     B  \n",
       "1            112080       приобретение автомобиля                     C  \n",
       "2            145885                 покупка жилья                     C  \n",
       "3            267628    дополнительное образование                     B  \n",
       "4            158616               сыграть свадьбу                     C  \n",
       "...             ...                           ...                   ...  \n",
       "21448        224791             операции с жильем                     B  \n",
       "21449        155999          сделка с автомобилем                     C  \n",
       "21450         89672                  недвижимость                     C  \n",
       "21451        244093  на покупку своего автомобиля                     B  \n",
       "21452         82047         на покупку автомобиля                     C  \n",
       "\n",
       "[21453 rows x 13 columns]"
      ]
     },
     "execution_count": 26,
     "metadata": {},
     "output_type": "execute_result"
    }
   ],
   "source": [
    "#группирую данные о доходе\n",
    "def income(row):\n",
    "    \n",
    "    income = row['total_income']\n",
    "\n",
    "    if income <= 30000:\n",
    "        return 'E'\n",
    "    if income <= 50000 and income > 30001:\n",
    "        return 'D'\n",
    "    if income <= 200000 and income > 50001:\n",
    "        return 'C'\n",
    "    if income <= 1000000 and income > 200001:\n",
    "        return 'B'\n",
    "    if income > 1000001:\n",
    "        return 'A'\n",
    "    \n",
    "banki['total_income_category'] = banki.apply(income, axis=1)\n",
    "banki"
   ]
  },
  {
   "cell_type": "code",
   "execution_count": 27,
   "id": "f1121cae",
   "metadata": {},
   "outputs": [
    {
     "name": "stdout",
     "output_type": "stream",
     "text": [
      "['покупка жилья' 'приобретение автомобиля' 'дополнительное образование'\n",
      " 'сыграть свадьбу' 'операции с жильем' 'образование'\n",
      " 'на проведение свадьбы' 'покупка жилья для семьи' 'покупка недвижимости'\n",
      " 'покупка коммерческой недвижимости' 'покупка жилой недвижимости'\n",
      " 'строительство собственной недвижимости' 'недвижимость'\n",
      " 'строительство недвижимости' 'на покупку подержанного автомобиля'\n",
      " 'на покупку своего автомобиля' 'операции с коммерческой недвижимостью'\n",
      " 'строительство жилой недвижимости' 'жилье'\n",
      " 'операции со своей недвижимостью' 'автомобили' 'заняться образованием'\n",
      " 'сделка с подержанным автомобилем' 'получение образования' 'автомобиль'\n",
      " 'свадьба' 'получение дополнительного образования' 'покупка своего жилья'\n",
      " 'операции с недвижимостью' 'получение высшего образования'\n",
      " 'свой автомобиль' 'сделка с автомобилем' 'профильное образование'\n",
      " 'высшее образование' 'покупка жилья для сдачи' 'на покупку автомобиля'\n",
      " 'ремонт жилью' 'заняться высшим образованием']\n"
     ]
    }
   ],
   "source": [
    "print(banki['purpose'].unique()) #слишко много вариаций"
   ]
  },
  {
   "cell_type": "code",
   "execution_count": 28,
   "id": "d4f36bfb",
   "metadata": {},
   "outputs": [],
   "source": [
    "#создам столбец purpose_category\n",
    "def purpose(row):\n",
    "    \n",
    "    purpose = row['purpose']\n",
    "\n",
    "    if 'автомоби' in purpose:\n",
    "        return \"операции с автомобилем\"\n",
    "    if \"образова\" in purpose:\n",
    "        return \"получение образование\"\n",
    "    if \"свадьб\" in purpose:\n",
    "        return \"проведение свадьбы\"\n",
    "    if \"недвижимост\" or \"жиль\" in purpose:\n",
    "        return \"операции с недвижимостью\"\n",
    "\n",
    "banki['purpose_category'] = banki.apply(purpose, axis=1)\n",
    "#banki.head(30)"
   ]
  },
  {
   "cell_type": "code",
   "execution_count": 29,
   "id": "38bb65c7",
   "metadata": {},
   "outputs": [
    {
     "data": {
      "text/plain": [
       "purpose_category\n",
       "операции с автомобилем       4306\n",
       "операции с недвижимостью    10810\n",
       "получение образование        4013\n",
       "проведение свадьбы           2324\n",
       "Name: purpose, dtype: int64"
      ]
     },
     "execution_count": 29,
     "metadata": {},
     "output_type": "execute_result"
    }
   ],
   "source": [
    "banki.groupby('purpose_category')['purpose'].count()# недвижка чаще всего, ясно и так"
   ]
  },
  {
   "cell_type": "markdown",
   "id": "6a0c2b97",
   "metadata": {},
   "source": [
    "<div class=\"alert alert-block alert-success\">\n",
    "<b>✔️ Success:</b> отличная работа по разделу!"
   ]
  },
  {
   "cell_type": "markdown",
   "id": "feb5d428",
   "metadata": {},
   "source": [
    "### Шаг 2.7. Категоризация целей кредита."
   ]
  },
  {
   "cell_type": "code",
   "execution_count": 30,
   "id": "8fc648ab",
   "metadata": {},
   "outputs": [],
   "source": [
    "#разберемся с детьми. Делим всех кто сколько нарожал:\n",
    "def count_of_child(row):\n",
    "    if row == 0:\n",
    "        return 'семьи без детей'\n",
    "    if row <= 2 and row > 1:\n",
    "        return 'семьи c 1 ребенком'\n",
    "    if row <= 3 and row > 2:\n",
    "        return 'семьи c 2 детьми'\n",
    "    if row <= 4 and row > 3:\n",
    "        return 'семьи c 3 детьми'\n",
    "    else:\n",
    "        return 'многодетные'"
   ]
  },
  {
   "cell_type": "markdown",
   "id": "69b14f8e",
   "metadata": {},
   "source": [
    "<div class=\"alert alert-block alert-success\">\n",
    "<b>✔️ Success:</b> хорошая категоризация! учитывая, что заемщиков с >2 детьми в датасете очень мало, я бы и семьи с 3 детьми в категорию \"многодетные\" включил"
   ]
  },
  {
   "cell_type": "code",
   "execution_count": 31,
   "id": "11cb0b64",
   "metadata": {},
   "outputs": [],
   "source": [
    "banki['type_of_family'] = banki['children'].apply(count_of_child)"
   ]
  },
  {
   "cell_type": "code",
   "execution_count": 32,
   "id": "d46e99c1",
   "metadata": {},
   "outputs": [
    {
     "data": {
      "text/html": [
       "<div>\n",
       "<style scoped>\n",
       "    .dataframe tbody tr th:only-of-type {\n",
       "        vertical-align: middle;\n",
       "    }\n",
       "\n",
       "    .dataframe tbody tr th {\n",
       "        vertical-align: top;\n",
       "    }\n",
       "\n",
       "    .dataframe thead tr th {\n",
       "        text-align: left;\n",
       "    }\n",
       "\n",
       "    .dataframe thead tr:last-of-type th {\n",
       "        text-align: right;\n",
       "    }\n",
       "</style>\n",
       "<table border=\"1\" class=\"dataframe\">\n",
       "  <thead>\n",
       "    <tr>\n",
       "      <th></th>\n",
       "      <th></th>\n",
       "      <th>debt</th>\n",
       "    </tr>\n",
       "    <tr>\n",
       "      <th></th>\n",
       "      <th></th>\n",
       "      <th>count</th>\n",
       "    </tr>\n",
       "    <tr>\n",
       "      <th>type_of_family</th>\n",
       "      <th>debt</th>\n",
       "      <th></th>\n",
       "    </tr>\n",
       "  </thead>\n",
       "  <tbody>\n",
       "    <tr>\n",
       "      <th rowspan=\"2\" valign=\"top\">многодетные</th>\n",
       "      <th>0</th>\n",
       "      <td>4419</td>\n",
       "    </tr>\n",
       "    <tr>\n",
       "      <th>1</th>\n",
       "      <td>445</td>\n",
       "    </tr>\n",
       "    <tr>\n",
       "      <th rowspan=\"2\" valign=\"top\">семьи c 1 ребенком</th>\n",
       "      <th>0</th>\n",
       "      <td>1926</td>\n",
       "    </tr>\n",
       "    <tr>\n",
       "      <th>1</th>\n",
       "      <td>202</td>\n",
       "    </tr>\n",
       "    <tr>\n",
       "      <th rowspan=\"2\" valign=\"top\">семьи c 2 детьми</th>\n",
       "      <th>0</th>\n",
       "      <td>303</td>\n",
       "    </tr>\n",
       "    <tr>\n",
       "      <th>1</th>\n",
       "      <td>27</td>\n",
       "    </tr>\n",
       "    <tr>\n",
       "      <th rowspan=\"2\" valign=\"top\">семьи c 3 детьми</th>\n",
       "      <th>0</th>\n",
       "      <td>37</td>\n",
       "    </tr>\n",
       "    <tr>\n",
       "      <th>1</th>\n",
       "      <td>4</td>\n",
       "    </tr>\n",
       "    <tr>\n",
       "      <th rowspan=\"2\" valign=\"top\">семьи без детей</th>\n",
       "      <th>0</th>\n",
       "      <td>13027</td>\n",
       "    </tr>\n",
       "    <tr>\n",
       "      <th>1</th>\n",
       "      <td>1063</td>\n",
       "    </tr>\n",
       "  </tbody>\n",
       "</table>\n",
       "</div>"
      ],
      "text/plain": [
       "                          debt\n",
       "                         count\n",
       "type_of_family     debt       \n",
       "многодетные        0      4419\n",
       "                   1       445\n",
       "семьи c 1 ребенком 0      1926\n",
       "                   1       202\n",
       "семьи c 2 детьми   0       303\n",
       "                   1        27\n",
       "семьи c 3 детьми   0        37\n",
       "                   1         4\n",
       "семьи без детей    0     13027\n",
       "                   1      1063"
      ]
     },
     "execution_count": 32,
     "metadata": {},
     "output_type": "execute_result"
    }
   ],
   "source": [
    "banki_of_family = banki.groupby(['type_of_family','debt']).agg({'debt':[\"count\"]})\n",
    "banki_of_family"
   ]
  },
  {
   "cell_type": "code",
   "execution_count": 33,
   "id": "0ae72bdd",
   "metadata": {},
   "outputs": [
    {
     "name": "stdout",
     "output_type": "stream",
     "text": [
      "8.16% Нет детей\n",
      "10.09% 1 Ребенок\n",
      "10.49% 2 Ребенка\n",
      "8.91% 3 Ребенка\n",
      "10.81% Многодетные\n"
     ]
    }
   ],
   "source": [
    "banki_deti = banki.pivot_table(index=['debt'], columns='children', values = 'family_status_id', aggfunc='count')\n",
    "b1 = banki_deti[0][1] / banki_deti[0][0]\n",
    "b2 = banki_deti[1][1] / banki_deti[1][0]\n",
    "b3 = banki_deti[2][1] / banki_deti[2][0]\n",
    "b4 = banki_deti[3][1] / banki_deti[3][0]\n",
    "b5 = banki_deti[4][1] / banki_deti[4][0]\n",
    "\n",
    "print(\"{0:.2f}% Нет детей\".format(b1*100))\n",
    "print(\"{0:.2f}% 1 Ребенок\".format(b2*100))\n",
    "print(\"{0:.2f}% 2 Ребенка\".format(b3*100))\n",
    "print(\"{0:.2f}% 3 Ребенка\".format(b4*100))\n",
    "print(\"{0:.2f}% Многодетные\".format(b5*100))"
   ]
  },
  {
   "cell_type": "markdown",
   "id": "c98976bf",
   "metadata": {},
   "source": [
    "Дети - всегда ответственность, везде и во всем. Так, у тех людей где есть хотя бы 1 ребенок шансы выплатить кредит больше, чем у бездетных (8,16 - процент должников)"
   ]
  },
  {
   "cell_type": "code",
   "execution_count": 34,
   "id": "20421568",
   "metadata": {},
   "outputs": [
    {
     "data": {
      "text/html": [
       "<div>\n",
       "<style scoped>\n",
       "    .dataframe tbody tr th:only-of-type {\n",
       "        vertical-align: middle;\n",
       "    }\n",
       "\n",
       "    .dataframe tbody tr th {\n",
       "        vertical-align: top;\n",
       "    }\n",
       "\n",
       "    .dataframe thead tr th {\n",
       "        text-align: left;\n",
       "    }\n",
       "\n",
       "    .dataframe thead tr:last-of-type th {\n",
       "        text-align: right;\n",
       "    }\n",
       "</style>\n",
       "<table border=\"1\" class=\"dataframe\">\n",
       "  <thead>\n",
       "    <tr>\n",
       "      <th></th>\n",
       "      <th></th>\n",
       "      <th>debt</th>\n",
       "    </tr>\n",
       "    <tr>\n",
       "      <th></th>\n",
       "      <th></th>\n",
       "      <th>count</th>\n",
       "    </tr>\n",
       "    <tr>\n",
       "      <th>family_status</th>\n",
       "      <th>debt</th>\n",
       "      <th></th>\n",
       "    </tr>\n",
       "  </thead>\n",
       "  <tbody>\n",
       "    <tr>\n",
       "      <th rowspan=\"2\" valign=\"top\">Не женат / не замужем</th>\n",
       "      <th>0</th>\n",
       "      <td>2536</td>\n",
       "    </tr>\n",
       "    <tr>\n",
       "      <th>1</th>\n",
       "      <td>274</td>\n",
       "    </tr>\n",
       "    <tr>\n",
       "      <th rowspan=\"2\" valign=\"top\">в разводе</th>\n",
       "      <th>0</th>\n",
       "      <td>1110</td>\n",
       "    </tr>\n",
       "    <tr>\n",
       "      <th>1</th>\n",
       "      <td>85</td>\n",
       "    </tr>\n",
       "    <tr>\n",
       "      <th rowspan=\"2\" valign=\"top\">вдовец / вдова</th>\n",
       "      <th>0</th>\n",
       "      <td>896</td>\n",
       "    </tr>\n",
       "    <tr>\n",
       "      <th>1</th>\n",
       "      <td>63</td>\n",
       "    </tr>\n",
       "    <tr>\n",
       "      <th rowspan=\"2\" valign=\"top\">гражданский брак</th>\n",
       "      <th>0</th>\n",
       "      <td>3762</td>\n",
       "    </tr>\n",
       "    <tr>\n",
       "      <th>1</th>\n",
       "      <td>388</td>\n",
       "    </tr>\n",
       "    <tr>\n",
       "      <th rowspan=\"2\" valign=\"top\">женат / замужем</th>\n",
       "      <th>0</th>\n",
       "      <td>11408</td>\n",
       "    </tr>\n",
       "    <tr>\n",
       "      <th>1</th>\n",
       "      <td>931</td>\n",
       "    </tr>\n",
       "  </tbody>\n",
       "</table>\n",
       "</div>"
      ],
      "text/plain": [
       "                             debt\n",
       "                            count\n",
       "family_status         debt       \n",
       "Не женат / не замужем 0      2536\n",
       "                      1       274\n",
       "в разводе             0      1110\n",
       "                      1        85\n",
       "вдовец / вдова        0       896\n",
       "                      1        63\n",
       "гражданский брак      0      3762\n",
       "                      1       388\n",
       "женат / замужем       0     11408\n",
       "                      1       931"
      ]
     },
     "execution_count": 34,
     "metadata": {},
     "output_type": "execute_result"
    }
   ],
   "source": [
    "#теперь про семейное положение посмотрим\n",
    "banki_of_family_status = banki.groupby(['family_status','debt']).agg({'debt':[\"count\"]})\n",
    "banki_of_family_status"
   ]
  },
  {
   "cell_type": "code",
   "execution_count": 35,
   "id": "c553a40e",
   "metadata": {},
   "outputs": [
    {
     "name": "stdout",
     "output_type": "stream",
     "text": [
      "10.80% Не женат / не замужем\n",
      "7.66% в разводе\n",
      "7.03% вдовец / вдова\n",
      "10.31% гражданский брак\n",
      "8.16% женат / замужем\n"
     ]
    }
   ],
   "source": [
    "data_pivot2 = banki.pivot_table(index=['debt'], columns='family_status', values='gender', aggfunc='count')\n",
    "free = data_pivot2['Не женат / не замужем'][1] / data_pivot2['Не женат / не замужем'][0]\n",
    "divorce = data_pivot2['в разводе'][1] / data_pivot2['в разводе'][0]\n",
    "widow = data_pivot2['вдовец / вдова'][1] / data_pivot2['вдовец / вдова'][0]\n",
    "partner = data_pivot2['гражданский брак'][1] / data_pivot2['гражданский брак'][0]\n",
    "marriage = data_pivot2['женат / замужем'][1] / data_pivot2['женат / замужем'][0]\n",
    "print(\"{0:.2f}% Не женат / не замужем\".format(free*100))\n",
    "print(\"{0:.2f}% в разводе\".format(divorce*100))\n",
    "print(\"{0:.2f}% вдовец / вдова\".format(widow*100))\n",
    "print(\"{0:.2f}% гражданский брак\".format(partner*100))\n",
    "print(\"{0:.2f}% женат / замужем\".format(marriage*100))"
   ]
  },
  {
   "cell_type": "markdown",
   "id": "45eb7348",
   "metadata": {},
   "source": [
    "Не женатые реже выплачивают кредиты в срок как и в гражданском браке. Самые низкие шансы стать проблемным заемщиком у вдовцов - всего 7,03, а самые высокие у не женатых и живущих в гражданском браке - 10.80% и 10.31% соответственно."
   ]
  },
  {
   "cell_type": "markdown",
   "id": "5accdbd0",
   "metadata": {},
   "source": [
    "<div class=\"alert alert-block alert-success\">\n",
    "<b>✔️ Success:</b> все верно, но добавляй в выводы больше конкретики :) заказчику важны цифры"
   ]
  },
  {
   "cell_type": "code",
   "execution_count": 36,
   "id": "ebc95dc9",
   "metadata": {},
   "outputs": [
    {
     "data": {
      "text/html": [
       "<div>\n",
       "<style scoped>\n",
       "    .dataframe tbody tr th:only-of-type {\n",
       "        vertical-align: middle;\n",
       "    }\n",
       "\n",
       "    .dataframe tbody tr th {\n",
       "        vertical-align: top;\n",
       "    }\n",
       "\n",
       "    .dataframe thead tr th {\n",
       "        text-align: left;\n",
       "    }\n",
       "\n",
       "    .dataframe thead tr:last-of-type th {\n",
       "        text-align: right;\n",
       "    }\n",
       "</style>\n",
       "<table border=\"1\" class=\"dataframe\">\n",
       "  <thead>\n",
       "    <tr>\n",
       "      <th></th>\n",
       "      <th></th>\n",
       "      <th>debt</th>\n",
       "    </tr>\n",
       "    <tr>\n",
       "      <th></th>\n",
       "      <th></th>\n",
       "      <th>count</th>\n",
       "    </tr>\n",
       "    <tr>\n",
       "      <th>total_income_category</th>\n",
       "      <th>debt</th>\n",
       "      <th></th>\n",
       "    </tr>\n",
       "  </thead>\n",
       "  <tbody>\n",
       "    <tr>\n",
       "      <th rowspan=\"2\" valign=\"top\">A</th>\n",
       "      <th>0</th>\n",
       "      <td>23</td>\n",
       "    </tr>\n",
       "    <tr>\n",
       "      <th>1</th>\n",
       "      <td>2</td>\n",
       "    </tr>\n",
       "    <tr>\n",
       "      <th rowspan=\"2\" valign=\"top\">B</th>\n",
       "      <th>0</th>\n",
       "      <td>4683</td>\n",
       "    </tr>\n",
       "    <tr>\n",
       "      <th>1</th>\n",
       "      <td>356</td>\n",
       "    </tr>\n",
       "    <tr>\n",
       "      <th rowspan=\"2\" valign=\"top\">C</th>\n",
       "      <th>0</th>\n",
       "      <td>14656</td>\n",
       "    </tr>\n",
       "    <tr>\n",
       "      <th>1</th>\n",
       "      <td>1360</td>\n",
       "    </tr>\n",
       "    <tr>\n",
       "      <th rowspan=\"2\" valign=\"top\">D</th>\n",
       "      <th>0</th>\n",
       "      <td>329</td>\n",
       "    </tr>\n",
       "    <tr>\n",
       "      <th>1</th>\n",
       "      <td>21</td>\n",
       "    </tr>\n",
       "    <tr>\n",
       "      <th rowspan=\"2\" valign=\"top\">E</th>\n",
       "      <th>0</th>\n",
       "      <td>20</td>\n",
       "    </tr>\n",
       "    <tr>\n",
       "      <th>1</th>\n",
       "      <td>2</td>\n",
       "    </tr>\n",
       "  </tbody>\n",
       "</table>\n",
       "</div>"
      ],
      "text/plain": [
       "                             debt\n",
       "                            count\n",
       "total_income_category debt       \n",
       "A                     0        23\n",
       "                      1         2\n",
       "B                     0      4683\n",
       "                      1       356\n",
       "C                     0     14656\n",
       "                      1      1360\n",
       "D                     0       329\n",
       "                      1        21\n",
       "E                     0        20\n",
       "                      1         2"
      ]
     },
     "execution_count": 36,
     "metadata": {},
     "output_type": "execute_result"
    }
   ],
   "source": [
    "#теперь про зависимость от дохода\n",
    "banki_income = banki.groupby(['total_income_category','debt']).agg({'debt':[\"count\"]})\n",
    "banki_income"
   ]
  },
  {
   "cell_type": "code",
   "execution_count": 37,
   "id": "c52f57cb",
   "metadata": {},
   "outputs": [
    {
     "name": "stdout",
     "output_type": "stream",
     "text": [
      "8.70% A\n",
      "7.60% B\n",
      "9.28% C\n",
      "6.38% D\n",
      "10.00% E\n"
     ]
    }
   ],
   "source": [
    "data_pivot0 = banki.pivot_table(index=['debt'], columns='total_income_category', values='gender', aggfunc='count')\n",
    "data_pivot0\n",
    "\n",
    "in12 = data_pivot0['A'][1] / data_pivot0['A'][0]\n",
    "in22 = data_pivot0['B'][1] / data_pivot0['B'][0]\n",
    "in32 = data_pivot0['C'][1] / data_pivot0['C'][0]\n",
    "in42 = data_pivot0['D'][1] / data_pivot0['D'][0]\n",
    "in52 = data_pivot0['E'][1] / data_pivot0['E'][0]\n",
    "\n",
    "print(\"{0:.2f}% A\".format(in12*100))\n",
    "print(\"{0:.2f}% B\".format(in22*100))\n",
    "print(\"{0:.2f}% C\".format(in32*100))\n",
    "print(\"{0:.2f}% D\".format(in42*100))\n",
    "print(\"{0:.2f}% E\".format(in52*100))"
   ]
  },
  {
   "cell_type": "code",
   "execution_count": 38,
   "id": "b840a3ab",
   "metadata": {},
   "outputs": [],
   "source": [
    "# хуже всего креды выплачивают богачи"
   ]
  },
  {
   "cell_type": "code",
   "execution_count": 39,
   "id": "0d8ca5d2",
   "metadata": {},
   "outputs": [
    {
     "name": "stdout",
     "output_type": "stream",
     "text": [
      "10.33% операции с автомобилем\n",
      "7.80% операции с недвижимостью\n",
      "10.16% получение образование\n",
      "8.70% проведение свадьбы\n"
     ]
    }
   ],
   "source": [
    "# Как разные цели кредита влияют на его возврат в срок?\n",
    "\n",
    "data_pivot3 = banki.pivot_table(index=['debt'], columns='purpose_category', values='gender', aggfunc='count')\n",
    "data_pivot3\n",
    "\n",
    "in1 = data_pivot3['операции с автомобилем'][1] / data_pivot3['операции с автомобилем'][0]\n",
    "in3 = data_pivot3['операции с недвижимостью'][1] / data_pivot3['операции с недвижимостью'][0]\n",
    "in4 = data_pivot3['получение образование'][1] / data_pivot3['получение образование'][0]\n",
    "in5 = data_pivot3['проведение свадьбы'][1] / data_pivot3['проведение свадьбы'][0]\n",
    "\n",
    "print(\"{0:.2f}% операции с автомобилем\".format(in1*100))\n",
    "print(\"{0:.2f}% операции с недвижимостью\".format(in3*100))\n",
    "print(\"{0:.2f}% получение образование\".format(in4*100))\n",
    "print(\"{0:.2f}% проведение свадьбы\".format(in5*100))"
   ]
  },
  {
   "cell_type": "code",
   "execution_count": 40,
   "id": "f4eeef72",
   "metadata": {},
   "outputs": [],
   "source": [
    "# Лучше всего выплачивают кредиты если берут недвижку или на свадьбу"
   ]
  },
  {
   "cell_type": "code",
   "execution_count": 41,
   "id": "ab21acdc",
   "metadata": {},
   "outputs": [
    {
     "data": {
      "text/html": [
       "<div>\n",
       "<style scoped>\n",
       "    .dataframe tbody tr th:only-of-type {\n",
       "        vertical-align: middle;\n",
       "    }\n",
       "\n",
       "    .dataframe tbody tr th {\n",
       "        vertical-align: top;\n",
       "    }\n",
       "\n",
       "    .dataframe thead tr th {\n",
       "        text-align: left;\n",
       "    }\n",
       "\n",
       "    .dataframe thead tr:last-of-type th {\n",
       "        text-align: right;\n",
       "    }\n",
       "</style>\n",
       "<table border=\"1\" class=\"dataframe\">\n",
       "  <thead>\n",
       "    <tr>\n",
       "      <th></th>\n",
       "      <th></th>\n",
       "      <th>debt</th>\n",
       "    </tr>\n",
       "    <tr>\n",
       "      <th></th>\n",
       "      <th></th>\n",
       "      <th>count</th>\n",
       "    </tr>\n",
       "    <tr>\n",
       "      <th>education</th>\n",
       "      <th>debt</th>\n",
       "      <th></th>\n",
       "    </tr>\n",
       "  </thead>\n",
       "  <tbody>\n",
       "    <tr>\n",
       "      <th rowspan=\"2\" valign=\"top\">высшее</th>\n",
       "      <th>0</th>\n",
       "      <td>4972</td>\n",
       "    </tr>\n",
       "    <tr>\n",
       "      <th>1</th>\n",
       "      <td>278</td>\n",
       "    </tr>\n",
       "    <tr>\n",
       "      <th rowspan=\"2\" valign=\"top\">начальное</th>\n",
       "      <th>0</th>\n",
       "      <td>251</td>\n",
       "    </tr>\n",
       "    <tr>\n",
       "      <th>1</th>\n",
       "      <td>31</td>\n",
       "    </tr>\n",
       "    <tr>\n",
       "      <th rowspan=\"2\" valign=\"top\">неоконченное высшее</th>\n",
       "      <th>0</th>\n",
       "      <td>675</td>\n",
       "    </tr>\n",
       "    <tr>\n",
       "      <th>1</th>\n",
       "      <td>68</td>\n",
       "    </tr>\n",
       "    <tr>\n",
       "      <th rowspan=\"2\" valign=\"top\">среднее</th>\n",
       "      <th>0</th>\n",
       "      <td>13808</td>\n",
       "    </tr>\n",
       "    <tr>\n",
       "      <th>1</th>\n",
       "      <td>1364</td>\n",
       "    </tr>\n",
       "    <tr>\n",
       "      <th>ученая степень</th>\n",
       "      <th>0</th>\n",
       "      <td>6</td>\n",
       "    </tr>\n",
       "  </tbody>\n",
       "</table>\n",
       "</div>"
      ],
      "text/plain": [
       "                           debt\n",
       "                          count\n",
       "education           debt       \n",
       "высшее              0      4972\n",
       "                    1       278\n",
       "начальное           0       251\n",
       "                    1        31\n",
       "неоконченное высшее 0       675\n",
       "                    1        68\n",
       "среднее             0     13808\n",
       "                    1      1364\n",
       "ученая степень      0         6"
      ]
     },
     "execution_count": 41,
     "metadata": {},
     "output_type": "execute_result"
    }
   ],
   "source": [
    "# Есть ли связь с образованием?\n",
    "banki_education = banki.groupby(['education','debt']).agg({'debt':[\"count\"]})\n",
    "banki_education"
   ]
  },
  {
   "cell_type": "code",
   "execution_count": 42,
   "id": "4ab6e9c4",
   "metadata": {},
   "outputs": [],
   "source": [
    "# как и следовало ожидать, обрахование влияет очень сильно, как на выплату кредита, так и по жизни )"
   ]
  },
  {
   "cell_type": "markdown",
   "id": "8ff82911",
   "metadata": {},
   "source": [
    "### Ответы на вопросы."
   ]
  },
  {
   "cell_type": "markdown",
   "id": "9e227ea1",
   "metadata": {},
   "source": [
    "Итак:\n",
    "\n",
    "    Чаще всего целью кредита являются: недвижимость, автомобиль и реже образование;\n",
    "    Чаще всего не выплачиваются кредиты, взятые автомобиль (10.33%) и образование (10.16%);\n",
    "    Заёмщики с детьми, в целом чаще других выплачивали кредит вовремя против бездетных (8.16%);\n",
    "    Заёмщики, которые были не женаты/замужем либо в гражданском браке чаще других не выплачивали кредит вовремя (10.80% и 10.31% соответственно);\n",
    "    В целом, уровень образования влияет на выплату кредита в срок, чем выше уровень образования, тем больше шансы выплаты;\n",
    "    Клиенты, с высоким доходом чаще других не выплачивали кредит вовремя.\n",
    "    \n",
    "\n",
    "На риск невыплаты кредита сильно влиет почти каждый фактор, это и количество детей, и доход, и семейное положение и цель кредита.\n",
    "\n",
    "Однако, если у заёмщика доход высокий и он не женат, это еще не значит, что он не сможет выплатить вовремя взятый кредит. Нужно учитывать множетсво факторов, связанных с личностью клиента (может у него ученая степень и он берет на свадьбу).\n"
   ]
  },
  {
   "cell_type": "markdown",
   "id": "9a92d019",
   "metadata": {},
   "source": [
    "<div class=\"alert alert-block alert-success\">\n",
    "<b>✔️ Success:</b> Отличная работа! Стоит немного \"усилить\" вывод цифрами и будет шикарно :)"
   ]
  },
  {
   "cell_type": "code",
   "execution_count": null,
   "id": "2f1ea4d9",
   "metadata": {},
   "outputs": [],
   "source": []
  }
 ],
 "metadata": {
  "ExecuteTimeLog": [
   {
    "duration": 1061,
    "start_time": "2022-05-18T15:43:13.615Z"
   },
   {
    "duration": 95,
    "start_time": "2022-05-18T15:43:24.493Z"
   },
   {
    "duration": 55,
    "start_time": "2022-05-19T13:03:17.220Z"
   },
   {
    "duration": 512,
    "start_time": "2022-05-19T13:03:37.091Z"
   },
   {
    "duration": 15,
    "start_time": "2022-05-19T13:03:37.605Z"
   },
   {
    "duration": 15,
    "start_time": "2022-05-19T13:22:14.245Z"
   },
   {
    "duration": 86,
    "start_time": "2022-05-19T13:24:02.668Z"
   },
   {
    "duration": 21,
    "start_time": "2022-05-19T13:24:54.995Z"
   },
   {
    "duration": 19,
    "start_time": "2022-05-19T13:25:00.923Z"
   },
   {
    "duration": 30,
    "start_time": "2022-05-19T13:27:55.163Z"
   },
   {
    "duration": 23,
    "start_time": "2022-05-19T13:28:15.555Z"
   },
   {
    "duration": 17,
    "start_time": "2022-05-19T13:30:16.225Z"
   },
   {
    "duration": 448,
    "start_time": "2022-05-19T13:58:08.532Z"
   },
   {
    "duration": 23,
    "start_time": "2022-05-19T13:59:00.392Z"
   },
   {
    "duration": 26,
    "start_time": "2022-05-19T14:03:39.022Z"
   },
   {
    "duration": 26,
    "start_time": "2022-05-19T14:04:08.453Z"
   },
   {
    "duration": 9,
    "start_time": "2022-05-19T14:13:10.363Z"
   },
   {
    "duration": 4,
    "start_time": "2022-05-19T14:15:20.898Z"
   },
   {
    "duration": 5,
    "start_time": "2022-05-19T14:17:14.010Z"
   },
   {
    "duration": 35,
    "start_time": "2022-05-19T14:19:17.640Z"
   },
   {
    "duration": 30,
    "start_time": "2022-05-19T14:19:22.978Z"
   },
   {
    "duration": 33,
    "start_time": "2022-05-19T14:19:31.727Z"
   },
   {
    "duration": 59,
    "start_time": "2022-05-19T14:27:04.325Z"
   },
   {
    "duration": 40,
    "start_time": "2022-05-19T14:29:02.990Z"
   },
   {
    "duration": 35,
    "start_time": "2022-05-19T14:31:00.265Z"
   },
   {
    "duration": 8,
    "start_time": "2022-05-19T14:33:05.672Z"
   },
   {
    "duration": 25,
    "start_time": "2022-05-19T14:33:40.843Z"
   },
   {
    "duration": 10,
    "start_time": "2022-05-19T14:33:57.770Z"
   },
   {
    "duration": 24,
    "start_time": "2022-05-19T14:34:05.310Z"
   },
   {
    "duration": 13,
    "start_time": "2022-05-19T14:34:23.902Z"
   },
   {
    "duration": 11,
    "start_time": "2022-05-19T14:34:54.220Z"
   },
   {
    "duration": 13,
    "start_time": "2022-05-19T14:35:11.079Z"
   },
   {
    "duration": 10,
    "start_time": "2022-05-19T14:35:55.628Z"
   },
   {
    "duration": 7,
    "start_time": "2022-05-19T14:36:07.512Z"
   },
   {
    "duration": 19,
    "start_time": "2022-05-19T14:36:19.058Z"
   },
   {
    "duration": 21,
    "start_time": "2022-05-19T14:36:42.592Z"
   },
   {
    "duration": 8,
    "start_time": "2022-05-19T14:36:48.443Z"
   },
   {
    "duration": 7,
    "start_time": "2022-05-19T14:37:13.802Z"
   },
   {
    "duration": 20,
    "start_time": "2022-05-19T14:37:25.868Z"
   },
   {
    "duration": 19,
    "start_time": "2022-05-19T14:38:21.143Z"
   },
   {
    "duration": 36,
    "start_time": "2022-05-19T14:39:48.343Z"
   },
   {
    "duration": 2907,
    "start_time": "2022-05-19T14:39:58.852Z"
   },
   {
    "duration": 2972,
    "start_time": "2022-05-19T14:40:12.287Z"
   },
   {
    "duration": 27,
    "start_time": "2022-05-19T14:40:27.444Z"
   },
   {
    "duration": 25,
    "start_time": "2022-05-19T14:40:46.293Z"
   },
   {
    "duration": 31,
    "start_time": "2022-05-19T14:41:19.359Z"
   },
   {
    "duration": 4,
    "start_time": "2022-05-19T14:41:28.365Z"
   },
   {
    "duration": 32,
    "start_time": "2022-05-19T14:41:32.111Z"
   },
   {
    "duration": 2258,
    "start_time": "2022-05-19T14:41:41.313Z"
   },
   {
    "duration": 28,
    "start_time": "2022-05-19T14:44:41.112Z"
   },
   {
    "duration": 530,
    "start_time": "2022-05-19T14:45:25.012Z"
   },
   {
    "duration": 28,
    "start_time": "2022-05-19T14:45:25.544Z"
   },
   {
    "duration": 2142,
    "start_time": "2022-05-19T14:45:25.573Z"
   },
   {
    "duration": 25,
    "start_time": "2022-05-19T14:45:43.954Z"
   },
   {
    "duration": 2169,
    "start_time": "2022-05-19T14:45:47.784Z"
   },
   {
    "duration": 2274,
    "start_time": "2022-05-19T14:47:29.898Z"
   },
   {
    "duration": 95,
    "start_time": "2022-05-19T14:49:03.892Z"
   },
   {
    "duration": 36,
    "start_time": "2022-05-19T14:49:11.392Z"
   },
   {
    "duration": 25,
    "start_time": "2022-05-19T14:53:07.968Z"
   },
   {
    "duration": 2811,
    "start_time": "2022-05-19T14:54:27.656Z"
   },
   {
    "duration": 76,
    "start_time": "2022-05-19T14:57:42.201Z"
   },
   {
    "duration": 41,
    "start_time": "2022-05-19T14:57:59.379Z"
   },
   {
    "duration": 28,
    "start_time": "2022-05-19T14:58:26.380Z"
   },
   {
    "duration": 55,
    "start_time": "2022-05-20T15:34:36.922Z"
   },
   {
    "duration": 9,
    "start_time": "2022-05-20T15:35:21.845Z"
   },
   {
    "duration": 10,
    "start_time": "2022-05-20T15:35:29.803Z"
   },
   {
    "duration": 572,
    "start_time": "2022-05-20T15:35:44.396Z"
   },
   {
    "duration": 29,
    "start_time": "2022-05-20T15:35:44.970Z"
   },
   {
    "duration": 2322,
    "start_time": "2022-05-20T15:35:45.001Z"
   },
   {
    "duration": 1929,
    "start_time": "2022-05-20T15:35:50.435Z"
   },
   {
    "duration": 5,
    "start_time": "2022-05-20T15:35:59.115Z"
   },
   {
    "duration": 2256,
    "start_time": "2022-05-20T15:36:05.125Z"
   },
   {
    "duration": 26,
    "start_time": "2022-05-20T15:36:07.652Z"
   },
   {
    "duration": 56,
    "start_time": "2022-05-20T15:41:08.326Z"
   },
   {
    "duration": 36,
    "start_time": "2022-05-20T15:41:19.963Z"
   },
   {
    "duration": 32,
    "start_time": "2022-05-20T15:41:23.884Z"
   },
   {
    "duration": 69,
    "start_time": "2022-05-20T15:44:43.716Z"
   },
   {
    "duration": 14,
    "start_time": "2022-05-20T15:44:53.627Z"
   },
   {
    "duration": 5,
    "start_time": "2022-05-20T15:45:02.678Z"
   },
   {
    "duration": 7,
    "start_time": "2022-05-20T15:49:47.188Z"
   },
   {
    "duration": 7,
    "start_time": "2022-05-20T15:50:06.848Z"
   },
   {
    "duration": 532,
    "start_time": "2022-05-20T15:50:16.413Z"
   },
   {
    "duration": 33,
    "start_time": "2022-05-20T15:50:16.948Z"
   },
   {
    "duration": 6,
    "start_time": "2022-05-20T15:50:16.983Z"
   },
   {
    "duration": 6,
    "start_time": "2022-05-20T15:50:21.454Z"
   },
   {
    "duration": 104,
    "start_time": "2022-05-20T15:55:07.815Z"
   },
   {
    "duration": 12,
    "start_time": "2022-05-20T15:56:04.453Z"
   },
   {
    "duration": 10,
    "start_time": "2022-05-20T15:56:42.564Z"
   },
   {
    "duration": 9,
    "start_time": "2022-05-20T15:58:26.993Z"
   },
   {
    "duration": 10,
    "start_time": "2022-05-20T15:58:54.533Z"
   },
   {
    "duration": 11,
    "start_time": "2022-05-20T15:59:03.403Z"
   },
   {
    "duration": 10,
    "start_time": "2022-05-20T15:59:40.250Z"
   },
   {
    "duration": 10,
    "start_time": "2022-05-20T15:59:50.815Z"
   },
   {
    "duration": 11,
    "start_time": "2022-05-20T16:00:11.524Z"
   },
   {
    "duration": 17,
    "start_time": "2022-05-20T16:02:27.046Z"
   },
   {
    "duration": 523,
    "start_time": "2022-05-20T16:02:41.101Z"
   },
   {
    "duration": 27,
    "start_time": "2022-05-20T16:02:41.626Z"
   },
   {
    "duration": 105,
    "start_time": "2022-05-20T16:02:41.655Z"
   },
   {
    "duration": 20,
    "start_time": "2022-05-20T16:05:04.771Z"
   },
   {
    "duration": 15,
    "start_time": "2022-05-20T16:05:10.048Z"
   },
   {
    "duration": 19,
    "start_time": "2022-05-20T16:05:16.898Z"
   },
   {
    "duration": 541,
    "start_time": "2022-05-20T16:05:30.876Z"
   },
   {
    "duration": 31,
    "start_time": "2022-05-20T16:05:31.419Z"
   },
   {
    "duration": 21,
    "start_time": "2022-05-20T16:05:31.452Z"
   },
   {
    "duration": 98,
    "start_time": "2022-05-20T16:05:31.475Z"
   },
   {
    "duration": 17,
    "start_time": "2022-05-20T16:05:35.618Z"
   },
   {
    "duration": 20,
    "start_time": "2022-05-20T16:06:03.131Z"
   },
   {
    "duration": 13,
    "start_time": "2022-05-20T16:06:04.911Z"
   },
   {
    "duration": 17,
    "start_time": "2022-05-20T16:06:06.889Z"
   },
   {
    "duration": 20,
    "start_time": "2022-05-20T16:06:31.680Z"
   },
   {
    "duration": 14,
    "start_time": "2022-05-20T16:06:48.490Z"
   },
   {
    "duration": 15,
    "start_time": "2022-05-20T16:06:51.950Z"
   },
   {
    "duration": 20,
    "start_time": "2022-05-20T16:16:03.411Z"
   },
   {
    "duration": 19,
    "start_time": "2022-05-20T16:17:49.388Z"
   },
   {
    "duration": 22,
    "start_time": "2022-05-20T16:18:28.679Z"
   },
   {
    "duration": 21,
    "start_time": "2022-05-20T16:18:38.298Z"
   },
   {
    "duration": 15,
    "start_time": "2022-05-20T16:20:37.328Z"
   },
   {
    "duration": 16,
    "start_time": "2022-05-20T16:20:41.592Z"
   },
   {
    "duration": 4,
    "start_time": "2022-05-20T16:22:26.858Z"
   },
   {
    "duration": 6,
    "start_time": "2022-05-20T16:23:13.140Z"
   },
   {
    "duration": 28,
    "start_time": "2022-05-20T16:23:19.388Z"
   },
   {
    "duration": 18,
    "start_time": "2022-05-20T16:23:23.360Z"
   },
   {
    "duration": 15,
    "start_time": "2022-05-20T16:25:03.539Z"
   },
   {
    "duration": 11,
    "start_time": "2022-05-20T16:26:33.850Z"
   },
   {
    "duration": 6,
    "start_time": "2022-05-20T16:26:43.178Z"
   },
   {
    "duration": 30,
    "start_time": "2022-05-20T16:29:43.420Z"
   },
   {
    "duration": 39,
    "start_time": "2022-05-20T16:29:59.530Z"
   },
   {
    "duration": 492,
    "start_time": "2022-05-20T16:30:08.038Z"
   },
   {
    "duration": 27,
    "start_time": "2022-05-20T16:30:08.532Z"
   },
   {
    "duration": 38,
    "start_time": "2022-05-20T16:30:08.561Z"
   },
   {
    "duration": 15,
    "start_time": "2022-05-20T16:30:08.627Z"
   },
   {
    "duration": 35,
    "start_time": "2022-05-20T16:30:19.998Z"
   },
   {
    "duration": 63,
    "start_time": "2022-05-20T16:31:15.336Z"
   },
   {
    "duration": 16,
    "start_time": "2022-05-20T16:31:17.566Z"
   },
   {
    "duration": 532,
    "start_time": "2022-05-20T16:31:30.949Z"
   },
   {
    "duration": 30,
    "start_time": "2022-05-20T16:31:31.484Z"
   },
   {
    "duration": 61,
    "start_time": "2022-05-20T16:31:31.527Z"
   },
   {
    "duration": 15,
    "start_time": "2022-05-20T16:31:31.590Z"
   },
   {
    "duration": 57,
    "start_time": "2022-05-20T16:31:41.486Z"
   },
   {
    "duration": 23,
    "start_time": "2022-05-20T16:32:10.913Z"
   },
   {
    "duration": 65,
    "start_time": "2022-05-20T16:32:14.867Z"
   },
   {
    "duration": 52,
    "start_time": "2022-05-20T16:32:29.064Z"
   },
   {
    "duration": 15,
    "start_time": "2022-05-20T16:32:30.826Z"
   },
   {
    "duration": 85,
    "start_time": "2022-05-20T16:34:15.888Z"
   },
   {
    "duration": 11,
    "start_time": "2022-05-20T16:34:40.976Z"
   },
   {
    "duration": 8,
    "start_time": "2022-05-20T16:34:45.267Z"
   },
   {
    "duration": 60,
    "start_time": "2022-05-20T16:35:41.403Z"
   },
   {
    "duration": 15,
    "start_time": "2022-05-20T16:36:19.246Z"
   },
   {
    "duration": 17,
    "start_time": "2022-05-20T16:41:19.636Z"
   },
   {
    "duration": 21,
    "start_time": "2022-05-20T16:41:22.162Z"
   },
   {
    "duration": 19,
    "start_time": "2022-05-20T16:41:33.689Z"
   },
   {
    "duration": 8,
    "start_time": "2022-05-20T16:42:43.941Z"
   },
   {
    "duration": 201,
    "start_time": "2022-05-20T16:43:03.779Z"
   },
   {
    "duration": 45,
    "start_time": "2022-05-24T08:57:27.425Z"
   },
   {
    "duration": 94,
    "start_time": "2022-05-24T08:57:33.214Z"
   },
   {
    "duration": 8,
    "start_time": "2022-05-24T08:58:53.415Z"
   },
   {
    "duration": 1164,
    "start_time": "2022-05-24T08:59:14.220Z"
   },
   {
    "duration": 35,
    "start_time": "2022-05-24T08:59:15.387Z"
   },
   {
    "duration": 41,
    "start_time": "2022-05-24T08:59:15.423Z"
   },
   {
    "duration": 95,
    "start_time": "2022-05-24T08:59:15.466Z"
   },
   {
    "duration": 17,
    "start_time": "2022-05-24T08:59:22.060Z"
   },
   {
    "duration": 29,
    "start_time": "2022-05-24T09:00:37.106Z"
   },
   {
    "duration": 122,
    "start_time": "2022-05-24T09:00:40.170Z"
   },
   {
    "duration": 28,
    "start_time": "2022-05-24T09:02:37.858Z"
   },
   {
    "duration": 104,
    "start_time": "2022-05-24T09:02:41.129Z"
   },
   {
    "duration": 498,
    "start_time": "2022-05-24T09:02:48.393Z"
   },
   {
    "duration": 28,
    "start_time": "2022-05-24T09:02:48.893Z"
   },
   {
    "duration": 46,
    "start_time": "2022-05-24T09:02:48.923Z"
   },
   {
    "duration": 92,
    "start_time": "2022-05-24T09:02:48.972Z"
   },
   {
    "duration": 17,
    "start_time": "2022-05-24T09:02:52.351Z"
   },
   {
    "duration": 24,
    "start_time": "2022-05-24T09:04:43.919Z"
   },
   {
    "duration": 184,
    "start_time": "2022-05-24T09:04:45.474Z"
   },
   {
    "duration": 210,
    "start_time": "2022-05-24T09:04:56.652Z"
   },
   {
    "duration": 269,
    "start_time": "2022-05-24T09:09:56.943Z"
   },
   {
    "duration": 227,
    "start_time": "2022-05-24T09:10:38.136Z"
   },
   {
    "duration": 189,
    "start_time": "2022-05-24T09:10:52.785Z"
   },
   {
    "duration": 218,
    "start_time": "2022-05-24T09:12:34.133Z"
   },
   {
    "duration": 599,
    "start_time": "2022-05-24T09:12:49.517Z"
   },
   {
    "duration": 48,
    "start_time": "2022-05-24T09:12:50.118Z"
   },
   {
    "duration": 38,
    "start_time": "2022-05-24T09:12:50.168Z"
   },
   {
    "duration": 117,
    "start_time": "2022-05-24T09:12:50.209Z"
   },
   {
    "duration": 9,
    "start_time": "2022-05-24T09:13:28.848Z"
   },
   {
    "duration": 15,
    "start_time": "2022-05-24T09:15:54.500Z"
   },
   {
    "duration": 255,
    "start_time": "2022-05-24T09:17:01.103Z"
   },
   {
    "duration": 63,
    "start_time": "2022-05-24T09:20:45.620Z"
   },
   {
    "duration": 65,
    "start_time": "2022-05-24T09:21:30.527Z"
   },
   {
    "duration": 52,
    "start_time": "2022-05-24T09:47:01.473Z"
   },
   {
    "duration": 71,
    "start_time": "2022-05-24T09:47:05.201Z"
   },
   {
    "duration": 221,
    "start_time": "2022-05-24T09:54:49.782Z"
   },
   {
    "duration": 206,
    "start_time": "2022-05-24T09:54:54.374Z"
   },
   {
    "duration": 207,
    "start_time": "2022-05-24T09:54:56.387Z"
   },
   {
    "duration": 748,
    "start_time": "2022-05-24T09:55:02.090Z"
   },
   {
    "duration": 26,
    "start_time": "2022-05-24T09:55:02.840Z"
   },
   {
    "duration": 294,
    "start_time": "2022-05-24T09:55:02.868Z"
   },
   {
    "duration": 0,
    "start_time": "2022-05-24T09:55:03.163Z"
   },
   {
    "duration": 0,
    "start_time": "2022-05-24T09:55:03.164Z"
   },
   {
    "duration": 223,
    "start_time": "2022-05-24T09:55:33.081Z"
   },
   {
    "duration": 218,
    "start_time": "2022-05-24T09:55:38.077Z"
   },
   {
    "duration": 26,
    "start_time": "2022-05-24T09:55:41.355Z"
   },
   {
    "duration": 8,
    "start_time": "2022-05-24T09:55:46.028Z"
   },
   {
    "duration": 248,
    "start_time": "2022-05-24T09:55:52.390Z"
   },
   {
    "duration": 25,
    "start_time": "2022-05-24T09:55:55.423Z"
   },
   {
    "duration": 205,
    "start_time": "2022-05-24T09:56:43.584Z"
   },
   {
    "duration": 209,
    "start_time": "2022-05-24T09:56:50.193Z"
   },
   {
    "duration": 538,
    "start_time": "2022-05-24T09:56:56.519Z"
   },
   {
    "duration": 25,
    "start_time": "2022-05-24T09:56:57.059Z"
   },
   {
    "duration": 296,
    "start_time": "2022-05-24T09:56:57.086Z"
   },
   {
    "duration": 0,
    "start_time": "2022-05-24T09:56:57.384Z"
   },
   {
    "duration": 0,
    "start_time": "2022-05-24T09:56:57.385Z"
   },
   {
    "duration": 209,
    "start_time": "2022-05-24T09:57:03.862Z"
   },
   {
    "duration": 212,
    "start_time": "2022-05-24T09:57:08.355Z"
   },
   {
    "duration": 76,
    "start_time": "2022-05-24T09:58:33.835Z"
   },
   {
    "duration": 84,
    "start_time": "2022-05-24T09:59:50.065Z"
   },
   {
    "duration": 78,
    "start_time": "2022-05-24T10:00:19.846Z"
   },
   {
    "duration": 213,
    "start_time": "2022-05-24T10:09:44.907Z"
   },
   {
    "duration": 213,
    "start_time": "2022-05-24T10:09:48.258Z"
   },
   {
    "duration": 531,
    "start_time": "2022-05-24T10:09:54.720Z"
   },
   {
    "duration": 34,
    "start_time": "2022-05-24T10:09:55.253Z"
   },
   {
    "duration": 324,
    "start_time": "2022-05-24T10:09:55.290Z"
   },
   {
    "duration": 0,
    "start_time": "2022-05-24T10:09:55.616Z"
   },
   {
    "duration": 0,
    "start_time": "2022-05-24T10:09:55.617Z"
   },
   {
    "duration": 204,
    "start_time": "2022-05-24T10:11:03.618Z"
   },
   {
    "duration": 203,
    "start_time": "2022-05-24T10:11:10.419Z"
   },
   {
    "duration": 202,
    "start_time": "2022-05-24T10:12:54.813Z"
   },
   {
    "duration": 209,
    "start_time": "2022-05-24T10:12:59.187Z"
   },
   {
    "duration": 200,
    "start_time": "2022-05-24T10:13:46.662Z"
   },
   {
    "duration": 211,
    "start_time": "2022-05-24T10:13:57.779Z"
   },
   {
    "duration": 519,
    "start_time": "2022-05-24T10:14:13.544Z"
   },
   {
    "duration": 28,
    "start_time": "2022-05-24T10:14:14.065Z"
   },
   {
    "duration": 280,
    "start_time": "2022-05-24T10:14:14.094Z"
   },
   {
    "duration": 0,
    "start_time": "2022-05-24T10:14:14.376Z"
   },
   {
    "duration": 0,
    "start_time": "2022-05-24T10:14:14.377Z"
   },
   {
    "duration": 205,
    "start_time": "2022-05-24T10:14:19.457Z"
   },
   {
    "duration": 217,
    "start_time": "2022-05-24T10:14:25.371Z"
   },
   {
    "duration": 226,
    "start_time": "2022-05-24T10:19:33.707Z"
   },
   {
    "duration": 253,
    "start_time": "2022-05-24T10:20:05.272Z"
   },
   {
    "duration": 81,
    "start_time": "2022-05-24T10:20:33.019Z"
   },
   {
    "duration": 76,
    "start_time": "2022-05-24T10:23:57.258Z"
   },
   {
    "duration": 75,
    "start_time": "2022-05-24T10:26:21.387Z"
   },
   {
    "duration": 84,
    "start_time": "2022-05-24T10:30:52.060Z"
   },
   {
    "duration": 72,
    "start_time": "2022-05-24T10:31:40.990Z"
   },
   {
    "duration": 73,
    "start_time": "2022-05-24T10:32:34.340Z"
   },
   {
    "duration": 82,
    "start_time": "2022-05-24T10:33:50.877Z"
   },
   {
    "duration": 81,
    "start_time": "2022-05-24T10:49:13.492Z"
   },
   {
    "duration": 214,
    "start_time": "2022-05-24T10:50:04.473Z"
   },
   {
    "duration": 134,
    "start_time": "2022-05-24T10:50:07.043Z"
   },
   {
    "duration": 124,
    "start_time": "2022-05-24T10:50:12.093Z"
   },
   {
    "duration": 77,
    "start_time": "2022-05-24T10:54:13.495Z"
   },
   {
    "duration": 77,
    "start_time": "2022-05-24T10:55:33.328Z"
   },
   {
    "duration": 86,
    "start_time": "2022-05-24T10:55:58.316Z"
   },
   {
    "duration": 81,
    "start_time": "2022-05-24T11:05:12.257Z"
   },
   {
    "duration": 73,
    "start_time": "2022-05-24T11:10:18.653Z"
   },
   {
    "duration": 88,
    "start_time": "2022-05-24T11:17:40.126Z"
   },
   {
    "duration": 84,
    "start_time": "2022-05-24T11:18:27.259Z"
   },
   {
    "duration": 295,
    "start_time": "2022-05-24T11:19:00.423Z"
   },
   {
    "duration": 72,
    "start_time": "2022-05-24T11:22:24.249Z"
   },
   {
    "duration": 261,
    "start_time": "2022-05-24T11:22:49.904Z"
   },
   {
    "duration": 87,
    "start_time": "2022-05-24T11:24:53.306Z"
   },
   {
    "duration": 126,
    "start_time": "2022-05-24T11:27:11.833Z"
   },
   {
    "duration": 82,
    "start_time": "2022-05-24T11:33:34.307Z"
   },
   {
    "duration": 21,
    "start_time": "2022-05-24T11:36:37.654Z"
   },
   {
    "duration": 43,
    "start_time": "2022-05-24T11:36:41.984Z"
   },
   {
    "duration": 5,
    "start_time": "2022-05-24T11:36:53.554Z"
   },
   {
    "duration": 10,
    "start_time": "2022-05-24T11:37:52.980Z"
   },
   {
    "duration": 9,
    "start_time": "2022-05-24T11:38:07.068Z"
   },
   {
    "duration": 7,
    "start_time": "2022-05-24T11:38:11.367Z"
   },
   {
    "duration": 9,
    "start_time": "2022-05-24T11:39:05.024Z"
   },
   {
    "duration": 16,
    "start_time": "2022-05-24T11:39:20.549Z"
   },
   {
    "duration": 20,
    "start_time": "2022-05-24T11:39:35.465Z"
   },
   {
    "duration": 16,
    "start_time": "2022-05-24T11:40:33.993Z"
   },
   {
    "duration": 133,
    "start_time": "2022-05-24T11:42:03.815Z"
   },
   {
    "duration": 19,
    "start_time": "2022-05-24T11:42:04.866Z"
   },
   {
    "duration": 511,
    "start_time": "2022-05-24T11:42:20.816Z"
   },
   {
    "duration": 26,
    "start_time": "2022-05-24T11:42:21.331Z"
   },
   {
    "duration": 23,
    "start_time": "2022-05-24T11:42:21.358Z"
   },
   {
    "duration": 41,
    "start_time": "2022-05-24T11:42:21.384Z"
   },
   {
    "duration": 25,
    "start_time": "2022-05-24T11:42:21.428Z"
   },
   {
    "duration": 84,
    "start_time": "2022-05-24T11:42:21.454Z"
   },
   {
    "duration": 0,
    "start_time": "2022-05-24T11:42:21.539Z"
   },
   {
    "duration": 0,
    "start_time": "2022-05-24T11:42:21.540Z"
   },
   {
    "duration": 0,
    "start_time": "2022-05-24T11:42:21.541Z"
   },
   {
    "duration": 0,
    "start_time": "2022-05-24T11:42:21.551Z"
   },
   {
    "duration": 0,
    "start_time": "2022-05-24T11:42:21.552Z"
   },
   {
    "duration": 20,
    "start_time": "2022-05-24T11:44:06.358Z"
   },
   {
    "duration": 42,
    "start_time": "2022-05-24T11:44:07.414Z"
   },
   {
    "duration": 17,
    "start_time": "2022-05-24T11:44:20.876Z"
   },
   {
    "duration": 38,
    "start_time": "2022-05-24T11:44:21.709Z"
   },
   {
    "duration": 9,
    "start_time": "2022-05-24T11:45:02.647Z"
   },
   {
    "duration": 15,
    "start_time": "2022-05-24T11:45:29.645Z"
   },
   {
    "duration": 18,
    "start_time": "2022-05-24T11:49:22.206Z"
   },
   {
    "duration": 13,
    "start_time": "2022-05-24T11:50:28.509Z"
   },
   {
    "duration": 17,
    "start_time": "2022-05-24T11:50:46.249Z"
   },
   {
    "duration": 11,
    "start_time": "2022-05-24T11:50:47.370Z"
   },
   {
    "duration": 19,
    "start_time": "2022-05-24T11:50:59.981Z"
   },
   {
    "duration": 19,
    "start_time": "2022-05-24T11:51:09.556Z"
   },
   {
    "duration": 11,
    "start_time": "2022-05-24T11:51:10.415Z"
   },
   {
    "duration": 11,
    "start_time": "2022-05-24T11:51:14.484Z"
   },
   {
    "duration": 18,
    "start_time": "2022-05-24T11:51:49.608Z"
   },
   {
    "duration": 10,
    "start_time": "2022-05-24T11:51:50.558Z"
   },
   {
    "duration": 502,
    "start_time": "2022-05-24T11:52:06.759Z"
   },
   {
    "duration": 30,
    "start_time": "2022-05-24T11:52:07.263Z"
   },
   {
    "duration": 6,
    "start_time": "2022-05-24T11:52:07.295Z"
   },
   {
    "duration": 14,
    "start_time": "2022-05-24T11:52:07.303Z"
   },
   {
    "duration": 51,
    "start_time": "2022-05-24T11:52:07.319Z"
   },
   {
    "duration": 8,
    "start_time": "2022-05-24T11:52:07.372Z"
   },
   {
    "duration": 18,
    "start_time": "2022-05-24T11:52:07.381Z"
   },
   {
    "duration": 16,
    "start_time": "2022-05-24T11:52:07.401Z"
   },
   {
    "duration": 4,
    "start_time": "2022-05-24T11:52:07.418Z"
   },
   {
    "duration": 43,
    "start_time": "2022-05-24T11:52:07.425Z"
   },
   {
    "duration": 18,
    "start_time": "2022-05-24T11:52:07.470Z"
   },
   {
    "duration": 7,
    "start_time": "2022-05-24T11:52:07.490Z"
   },
   {
    "duration": 6,
    "start_time": "2022-05-24T11:52:20.897Z"
   },
   {
    "duration": 20,
    "start_time": "2022-05-24T11:53:26.269Z"
   },
   {
    "duration": 14,
    "start_time": "2022-05-24T11:54:04.199Z"
   },
   {
    "duration": 14,
    "start_time": "2022-05-24T11:54:40.421Z"
   },
   {
    "duration": 87,
    "start_time": "2022-05-24T11:57:42.426Z"
   },
   {
    "duration": 69,
    "start_time": "2022-05-24T11:57:53.064Z"
   },
   {
    "duration": 17,
    "start_time": "2022-05-24T11:59:00.052Z"
   },
   {
    "duration": 8,
    "start_time": "2022-05-24T12:00:39.115Z"
   },
   {
    "duration": 17,
    "start_time": "2022-05-24T12:00:45.832Z"
   },
   {
    "duration": 4,
    "start_time": "2022-05-24T12:06:07.308Z"
   },
   {
    "duration": 8,
    "start_time": "2022-05-24T12:06:25.479Z"
   },
   {
    "duration": 17,
    "start_time": "2022-05-24T12:06:37.570Z"
   },
   {
    "duration": 12,
    "start_time": "2022-05-24T12:11:15.426Z"
   },
   {
    "duration": 8,
    "start_time": "2022-05-24T12:14:10.721Z"
   },
   {
    "duration": 15,
    "start_time": "2022-05-24T12:20:33.293Z"
   },
   {
    "duration": 9,
    "start_time": "2022-05-24T12:20:35.531Z"
   },
   {
    "duration": 9,
    "start_time": "2022-05-24T12:20:43.693Z"
   },
   {
    "duration": 14,
    "start_time": "2022-05-24T12:21:06.350Z"
   },
   {
    "duration": 15,
    "start_time": "2022-05-24T12:21:38.112Z"
   },
   {
    "duration": 17,
    "start_time": "2022-05-24T12:27:00.449Z"
   },
   {
    "duration": 19,
    "start_time": "2022-05-24T12:27:54.570Z"
   },
   {
    "duration": 17,
    "start_time": "2022-05-24T12:28:05.726Z"
   },
   {
    "duration": 16,
    "start_time": "2022-05-24T12:28:41.759Z"
   },
   {
    "duration": 326,
    "start_time": "2022-05-24T13:14:00.166Z"
   },
   {
    "duration": 324,
    "start_time": "2022-05-24T13:14:04.032Z"
   },
   {
    "duration": 327,
    "start_time": "2022-05-24T13:14:07.394Z"
   },
   {
    "duration": 325,
    "start_time": "2022-05-24T13:14:13.208Z"
   },
   {
    "duration": 461,
    "start_time": "2022-05-24T13:14:19.404Z"
   },
   {
    "duration": 19,
    "start_time": "2022-05-24T13:14:19.867Z"
   },
   {
    "duration": 9,
    "start_time": "2022-05-24T13:14:19.888Z"
   },
   {
    "duration": 4,
    "start_time": "2022-05-24T13:14:19.898Z"
   },
   {
    "duration": 11,
    "start_time": "2022-05-24T13:14:19.904Z"
   },
   {
    "duration": 36,
    "start_time": "2022-05-24T13:14:19.917Z"
   },
   {
    "duration": 27,
    "start_time": "2022-05-24T13:14:19.954Z"
   },
   {
    "duration": 9,
    "start_time": "2022-05-24T13:14:19.983Z"
   },
   {
    "duration": 18,
    "start_time": "2022-05-24T13:14:19.994Z"
   },
   {
    "duration": 49,
    "start_time": "2022-05-24T13:14:20.013Z"
   },
   {
    "duration": 328,
    "start_time": "2022-05-24T13:14:20.064Z"
   },
   {
    "duration": 19,
    "start_time": "2022-05-24T13:14:20.394Z"
   },
   {
    "duration": 15,
    "start_time": "2022-05-24T13:14:20.415Z"
   },
   {
    "duration": 31,
    "start_time": "2022-05-24T13:14:20.432Z"
   },
   {
    "duration": 2,
    "start_time": "2022-05-24T13:14:20.464Z"
   },
   {
    "duration": 20,
    "start_time": "2022-05-24T13:14:20.468Z"
   },
   {
    "duration": 20,
    "start_time": "2022-05-24T13:14:20.489Z"
   },
   {
    "duration": 41,
    "start_time": "2022-05-24T13:14:20.511Z"
   },
   {
    "duration": 64,
    "start_time": "2022-05-24T13:14:20.554Z"
   },
   {
    "duration": 313,
    "start_time": "2022-05-24T13:14:58.757Z"
   },
   {
    "duration": 320,
    "start_time": "2022-05-24T13:15:40.901Z"
   },
   {
    "duration": 326,
    "start_time": "2022-05-24T13:16:30.660Z"
   },
   {
    "duration": 322,
    "start_time": "2022-05-24T13:17:38.354Z"
   },
   {
    "duration": 323,
    "start_time": "2022-05-24T13:17:46.525Z"
   },
   {
    "duration": 387,
    "start_time": "2022-05-24T13:23:06.692Z"
   },
   {
    "duration": 345,
    "start_time": "2022-05-24T13:23:17.271Z"
   },
   {
    "duration": 425,
    "start_time": "2022-05-24T13:23:25.038Z"
   },
   {
    "duration": 22,
    "start_time": "2022-05-24T13:25:43.485Z"
   },
   {
    "duration": 33,
    "start_time": "2022-05-24T13:25:46.756Z"
   },
   {
    "duration": 27,
    "start_time": "2022-05-24T13:25:53.001Z"
   },
   {
    "duration": 24,
    "start_time": "2022-05-24T13:27:40.259Z"
   },
   {
    "duration": 20,
    "start_time": "2022-05-24T13:32:47.655Z"
   },
   {
    "duration": 120,
    "start_time": "2022-05-24T13:38:47.328Z"
   },
   {
    "duration": 32,
    "start_time": "2022-05-24T13:39:02.132Z"
   },
   {
    "duration": 46,
    "start_time": "2022-05-24T13:39:36.387Z"
   },
   {
    "duration": 23,
    "start_time": "2022-05-24T13:40:34.753Z"
   },
   {
    "duration": 149,
    "start_time": "2022-05-24T13:59:53.369Z"
   },
   {
    "duration": 138,
    "start_time": "2022-05-24T14:00:32.908Z"
   },
   {
    "duration": 19,
    "start_time": "2022-05-24T14:00:34.719Z"
   },
   {
    "duration": 157,
    "start_time": "2022-05-24T14:04:30.905Z"
   },
   {
    "duration": 9,
    "start_time": "2022-05-24T14:09:53.205Z"
   },
   {
    "duration": 6,
    "start_time": "2022-05-24T14:10:26.044Z"
   },
   {
    "duration": 4,
    "start_time": "2022-05-24T14:19:58.464Z"
   },
   {
    "duration": 302,
    "start_time": "2022-05-24T14:23:46.735Z"
   },
   {
    "duration": 7,
    "start_time": "2022-05-24T14:24:11.577Z"
   },
   {
    "duration": 6,
    "start_time": "2022-05-24T14:24:19.462Z"
   },
   {
    "duration": 170,
    "start_time": "2022-05-24T14:26:23.215Z"
   },
   {
    "duration": 190,
    "start_time": "2022-05-24T14:26:51.305Z"
   },
   {
    "duration": 153,
    "start_time": "2022-05-24T14:27:46.376Z"
   },
   {
    "duration": 4,
    "start_time": "2022-05-24T14:28:22.621Z"
   },
   {
    "duration": 5,
    "start_time": "2022-05-24T14:28:24.166Z"
   },
   {
    "duration": 172,
    "start_time": "2022-05-24T14:28:25.848Z"
   },
   {
    "duration": 530,
    "start_time": "2022-05-24T14:29:46.617Z"
   },
   {
    "duration": 9,
    "start_time": "2022-05-24T14:33:15.909Z"
   },
   {
    "duration": 9,
    "start_time": "2022-05-24T14:33:29.351Z"
   },
   {
    "duration": 127,
    "start_time": "2022-05-24T14:33:41.165Z"
   },
   {
    "duration": 26,
    "start_time": "2022-05-24T14:35:35.207Z"
   },
   {
    "duration": 23,
    "start_time": "2022-05-24T14:36:38.857Z"
   },
   {
    "duration": 2789,
    "start_time": "2022-05-24T14:36:42.554Z"
   },
   {
    "duration": 3614,
    "start_time": "2022-05-24T15:00:23.906Z"
   },
   {
    "duration": 2780,
    "start_time": "2022-05-24T15:00:27.522Z"
   },
   {
    "duration": 7,
    "start_time": "2022-05-24T15:01:20.931Z"
   },
   {
    "duration": 3668,
    "start_time": "2022-05-24T15:01:26.103Z"
   },
   {
    "duration": 3845,
    "start_time": "2022-05-24T15:01:38.478Z"
   },
   {
    "duration": 535,
    "start_time": "2022-05-24T15:01:45.457Z"
   },
   {
    "duration": 21,
    "start_time": "2022-05-24T15:01:45.994Z"
   },
   {
    "duration": 10,
    "start_time": "2022-05-24T15:01:46.017Z"
   },
   {
    "duration": 27,
    "start_time": "2022-05-24T15:01:46.029Z"
   },
   {
    "duration": 9,
    "start_time": "2022-05-24T15:01:46.059Z"
   },
   {
    "duration": 21,
    "start_time": "2022-05-24T15:01:46.070Z"
   },
   {
    "duration": 59,
    "start_time": "2022-05-24T15:01:46.093Z"
   },
   {
    "duration": 13,
    "start_time": "2022-05-24T15:01:46.155Z"
   },
   {
    "duration": 20,
    "start_time": "2022-05-24T15:01:46.170Z"
   },
   {
    "duration": 23,
    "start_time": "2022-05-24T15:01:46.192Z"
   },
   {
    "duration": 366,
    "start_time": "2022-05-24T15:01:46.252Z"
   },
   {
    "duration": 33,
    "start_time": "2022-05-24T15:01:46.620Z"
   },
   {
    "duration": 25,
    "start_time": "2022-05-24T15:01:46.656Z"
   },
   {
    "duration": 24,
    "start_time": "2022-05-24T15:01:46.685Z"
   },
   {
    "duration": 3,
    "start_time": "2022-05-24T15:01:46.712Z"
   },
   {
    "duration": 59,
    "start_time": "2022-05-24T15:01:46.718Z"
   },
   {
    "duration": 27,
    "start_time": "2022-05-24T15:01:46.779Z"
   },
   {
    "duration": 56,
    "start_time": "2022-05-24T15:01:46.809Z"
   },
   {
    "duration": 38,
    "start_time": "2022-05-24T15:01:46.867Z"
   },
   {
    "duration": 53,
    "start_time": "2022-05-24T15:01:46.908Z"
   },
   {
    "duration": 4,
    "start_time": "2022-05-24T15:01:46.963Z"
   },
   {
    "duration": 0,
    "start_time": "2022-05-24T15:01:46.969Z"
   },
   {
    "duration": 1,
    "start_time": "2022-05-24T15:01:46.971Z"
   },
   {
    "duration": 0,
    "start_time": "2022-05-24T15:01:46.973Z"
   },
   {
    "duration": 18,
    "start_time": "2022-05-24T15:02:01.612Z"
   },
   {
    "duration": 114,
    "start_time": "2022-05-24T15:02:10.565Z"
   },
   {
    "duration": 25,
    "start_time": "2022-05-24T15:02:21.560Z"
   },
   {
    "duration": 152,
    "start_time": "2022-05-24T15:02:42.760Z"
   },
   {
    "duration": 151,
    "start_time": "2022-05-24T15:03:40.498Z"
   },
   {
    "duration": 8,
    "start_time": "2022-05-24T15:04:56.062Z"
   },
   {
    "duration": 166,
    "start_time": "2022-05-24T15:05:08.106Z"
   },
   {
    "duration": 3,
    "start_time": "2022-05-24T15:09:48.731Z"
   },
   {
    "duration": 6,
    "start_time": "2022-05-24T15:11:10.878Z"
   },
   {
    "duration": 10,
    "start_time": "2022-05-24T15:13:33.162Z"
   },
   {
    "duration": 3,
    "start_time": "2022-05-24T15:17:53.025Z"
   },
   {
    "duration": 180,
    "start_time": "2022-05-24T15:17:54.817Z"
   },
   {
    "duration": 5,
    "start_time": "2022-05-24T15:18:15.446Z"
   },
   {
    "duration": 71,
    "start_time": "2022-05-24T15:18:31.565Z"
   },
   {
    "duration": 19,
    "start_time": "2022-05-24T15:18:41.077Z"
   },
   {
    "duration": 24,
    "start_time": "2022-05-24T15:18:59.627Z"
   },
   {
    "duration": 36,
    "start_time": "2022-05-24T15:19:04.353Z"
   },
   {
    "duration": 33,
    "start_time": "2022-05-24T15:19:09.358Z"
   },
   {
    "duration": 154,
    "start_time": "2022-05-24T15:19:18.516Z"
   },
   {
    "duration": 134,
    "start_time": "2022-05-24T15:21:50.815Z"
   },
   {
    "duration": 122,
    "start_time": "2022-05-24T15:22:19.955Z"
   },
   {
    "duration": 165,
    "start_time": "2022-05-24T15:24:08.146Z"
   },
   {
    "duration": 177,
    "start_time": "2022-05-24T15:25:22.764Z"
   },
   {
    "duration": 161,
    "start_time": "2022-05-24T15:25:49.068Z"
   },
   {
    "duration": 175,
    "start_time": "2022-05-24T15:26:09.697Z"
   },
   {
    "duration": 187,
    "start_time": "2022-05-24T15:26:15.171Z"
   },
   {
    "duration": 19,
    "start_time": "2022-05-24T15:26:31.276Z"
   },
   {
    "duration": 22,
    "start_time": "2022-05-24T15:27:10.724Z"
   },
   {
    "duration": 9,
    "start_time": "2022-05-24T15:27:41.526Z"
   },
   {
    "duration": 176,
    "start_time": "2022-05-24T15:28:23.469Z"
   },
   {
    "duration": 196,
    "start_time": "2022-05-24T15:29:32.369Z"
   },
   {
    "duration": 175,
    "start_time": "2022-05-24T15:29:54.728Z"
   },
   {
    "duration": 171,
    "start_time": "2022-05-24T15:30:02.080Z"
   },
   {
    "duration": 164,
    "start_time": "2022-05-24T15:30:20.867Z"
   },
   {
    "duration": 218,
    "start_time": "2022-05-24T15:30:35.186Z"
   },
   {
    "duration": 165,
    "start_time": "2022-05-24T15:31:07.584Z"
   },
   {
    "duration": 159,
    "start_time": "2022-05-24T15:31:37.225Z"
   },
   {
    "duration": 154,
    "start_time": "2022-05-24T15:32:17.469Z"
   },
   {
    "duration": 144,
    "start_time": "2022-05-24T15:38:48.686Z"
   },
   {
    "duration": 8,
    "start_time": "2022-05-24T15:38:59.383Z"
   },
   {
    "duration": 8,
    "start_time": "2022-05-24T15:40:14.397Z"
   },
   {
    "duration": 10,
    "start_time": "2022-05-24T15:40:28.385Z"
   },
   {
    "duration": 22,
    "start_time": "2022-05-24T15:40:51.245Z"
   },
   {
    "duration": 8,
    "start_time": "2022-05-24T15:40:56.308Z"
   },
   {
    "duration": 24,
    "start_time": "2022-05-24T15:41:15.348Z"
   },
   {
    "duration": 9,
    "start_time": "2022-05-24T15:41:36.698Z"
   },
   {
    "duration": 8,
    "start_time": "2022-05-24T15:41:41.364Z"
   },
   {
    "duration": 8,
    "start_time": "2022-05-24T15:42:39.785Z"
   },
   {
    "duration": 562,
    "start_time": "2022-05-24T15:42:46.266Z"
   },
   {
    "duration": 7,
    "start_time": "2022-05-24T15:49:55.856Z"
   },
   {
    "duration": 8,
    "start_time": "2022-05-24T15:50:06.847Z"
   },
   {
    "duration": 3,
    "start_time": "2022-05-24T15:50:20.551Z"
   },
   {
    "duration": 7,
    "start_time": "2022-05-24T15:50:22.005Z"
   },
   {
    "duration": 9,
    "start_time": "2022-05-24T15:51:16.633Z"
   },
   {
    "duration": 8,
    "start_time": "2022-05-24T15:51:18.850Z"
   },
   {
    "duration": 14,
    "start_time": "2022-05-24T15:51:29.449Z"
   },
   {
    "duration": 3,
    "start_time": "2022-05-24T15:53:09.114Z"
   },
   {
    "duration": 7,
    "start_time": "2022-05-24T15:53:11.176Z"
   },
   {
    "duration": 14,
    "start_time": "2022-05-24T15:53:11.744Z"
   },
   {
    "duration": 3,
    "start_time": "2022-05-24T16:01:18.929Z"
   },
   {
    "duration": 7,
    "start_time": "2022-05-24T16:01:19.551Z"
   },
   {
    "duration": 14,
    "start_time": "2022-05-24T16:01:20.028Z"
   },
   {
    "duration": 4,
    "start_time": "2022-05-24T16:01:40.977Z"
   },
   {
    "duration": 7,
    "start_time": "2022-05-24T16:01:41.428Z"
   },
   {
    "duration": 14,
    "start_time": "2022-05-24T16:01:41.845Z"
   },
   {
    "duration": 3,
    "start_time": "2022-05-24T16:01:54.807Z"
   },
   {
    "duration": 17,
    "start_time": "2022-05-24T16:05:38.584Z"
   },
   {
    "duration": 3,
    "start_time": "2022-05-24T16:06:39.505Z"
   },
   {
    "duration": 8,
    "start_time": "2022-05-24T16:06:40.486Z"
   },
   {
    "duration": 15,
    "start_time": "2022-05-24T16:06:40.957Z"
   },
   {
    "duration": 17,
    "start_time": "2022-05-24T16:07:02.784Z"
   },
   {
    "duration": 440,
    "start_time": "2022-05-24T16:07:36.577Z"
   },
   {
    "duration": 15,
    "start_time": "2022-05-24T16:07:43.447Z"
   },
   {
    "duration": 9,
    "start_time": "2022-05-24T16:13:23.022Z"
   },
   {
    "duration": 14,
    "start_time": "2022-05-24T16:13:28.901Z"
   },
   {
    "duration": 8,
    "start_time": "2022-05-24T16:16:32.060Z"
   },
   {
    "duration": 409,
    "start_time": "2022-05-24T16:18:24.361Z"
   },
   {
    "duration": 334,
    "start_time": "2022-05-24T16:19:38.611Z"
   },
   {
    "duration": 18,
    "start_time": "2022-05-24T16:20:58.117Z"
   },
   {
    "duration": 17,
    "start_time": "2022-05-24T16:22:07.468Z"
   },
   {
    "duration": 20,
    "start_time": "2022-05-24T16:22:38.151Z"
   },
   {
    "duration": 18,
    "start_time": "2022-05-24T16:24:11.981Z"
   },
   {
    "duration": 18,
    "start_time": "2022-05-24T16:24:52.481Z"
   },
   {
    "duration": 12,
    "start_time": "2022-05-24T16:30:29.220Z"
   },
   {
    "duration": 11,
    "start_time": "2022-05-24T16:30:45.121Z"
   },
   {
    "duration": 1071,
    "start_time": "2022-05-24T16:31:03.332Z"
   },
   {
    "duration": 450,
    "start_time": "2022-05-24T16:33:04.248Z"
   },
   {
    "duration": 404,
    "start_time": "2022-05-24T16:33:40.429Z"
   },
   {
    "duration": 54,
    "start_time": "2022-05-24T16:33:59.840Z"
   },
   {
    "duration": 608,
    "start_time": "2022-05-24T16:34:33.905Z"
   },
   {
    "duration": 426,
    "start_time": "2022-05-24T16:34:47.472Z"
   },
   {
    "duration": 514,
    "start_time": "2022-05-24T16:35:13.629Z"
   },
   {
    "duration": 9,
    "start_time": "2022-05-24T16:36:09.959Z"
   },
   {
    "duration": 51,
    "start_time": "2022-05-24T16:37:51.311Z"
   },
   {
    "duration": 614,
    "start_time": "2022-05-24T16:57:21.962Z"
   },
   {
    "duration": 16,
    "start_time": "2022-05-24T16:57:40.013Z"
   },
   {
    "duration": 504,
    "start_time": "2022-05-24T16:58:02.914Z"
   },
   {
    "duration": 15,
    "start_time": "2022-05-24T16:58:05.834Z"
   },
   {
    "duration": 581,
    "start_time": "2022-05-24T16:58:09.063Z"
   },
   {
    "duration": 2,
    "start_time": "2022-05-24T16:58:10.315Z"
   },
   {
    "duration": 52,
    "start_time": "2022-05-24T16:58:11.354Z"
   },
   {
    "duration": 12,
    "start_time": "2022-05-24T16:59:59.933Z"
   },
   {
    "duration": 3,
    "start_time": "2022-05-24T17:00:00.722Z"
   },
   {
    "duration": 62,
    "start_time": "2022-05-24T17:00:01.943Z"
   },
   {
    "duration": 11,
    "start_time": "2022-05-24T17:00:26.243Z"
   },
   {
    "duration": 3,
    "start_time": "2022-05-24T17:00:27.104Z"
   },
   {
    "duration": 13,
    "start_time": "2022-05-24T17:00:29.956Z"
   },
   {
    "duration": 524,
    "start_time": "2022-05-24T17:00:35.983Z"
   },
   {
    "duration": 23,
    "start_time": "2022-05-24T17:00:36.509Z"
   },
   {
    "duration": 24,
    "start_time": "2022-05-24T17:00:36.534Z"
   },
   {
    "duration": 5,
    "start_time": "2022-05-24T17:00:36.560Z"
   },
   {
    "duration": 13,
    "start_time": "2022-05-24T17:00:36.568Z"
   },
   {
    "duration": 15,
    "start_time": "2022-05-24T17:00:36.584Z"
   },
   {
    "duration": 60,
    "start_time": "2022-05-24T17:00:36.601Z"
   },
   {
    "duration": 8,
    "start_time": "2022-05-24T17:00:36.663Z"
   },
   {
    "duration": 25,
    "start_time": "2022-05-24T17:00:36.672Z"
   },
   {
    "duration": 16,
    "start_time": "2022-05-24T17:00:36.698Z"
   },
   {
    "duration": 384,
    "start_time": "2022-05-24T17:00:36.716Z"
   },
   {
    "duration": 20,
    "start_time": "2022-05-24T17:00:37.101Z"
   },
   {
    "duration": 36,
    "start_time": "2022-05-24T17:00:37.123Z"
   },
   {
    "duration": 13,
    "start_time": "2022-05-24T17:00:37.162Z"
   },
   {
    "duration": 3,
    "start_time": "2022-05-24T17:00:37.176Z"
   },
   {
    "duration": 21,
    "start_time": "2022-05-24T17:00:37.180Z"
   },
   {
    "duration": 54,
    "start_time": "2022-05-24T17:00:37.203Z"
   },
   {
    "duration": 18,
    "start_time": "2022-05-24T17:00:37.259Z"
   },
   {
    "duration": 26,
    "start_time": "2022-05-24T17:00:37.279Z"
   },
   {
    "duration": 53,
    "start_time": "2022-05-24T17:00:37.306Z"
   },
   {
    "duration": 2,
    "start_time": "2022-05-24T17:00:37.361Z"
   },
   {
    "duration": 179,
    "start_time": "2022-05-24T17:00:37.365Z"
   },
   {
    "duration": 8,
    "start_time": "2022-05-24T17:00:37.545Z"
   },
   {
    "duration": 169,
    "start_time": "2022-05-24T17:00:37.554Z"
   },
   {
    "duration": 8,
    "start_time": "2022-05-24T17:00:37.725Z"
   },
   {
    "duration": 3,
    "start_time": "2022-05-24T17:00:37.735Z"
   },
   {
    "duration": 8,
    "start_time": "2022-05-24T17:00:37.752Z"
   },
   {
    "duration": 19,
    "start_time": "2022-05-24T17:00:37.761Z"
   },
   {
    "duration": 17,
    "start_time": "2022-05-24T17:00:37.782Z"
   },
   {
    "duration": 3,
    "start_time": "2022-05-24T17:00:37.801Z"
   },
   {
    "duration": 51,
    "start_time": "2022-05-24T17:00:37.806Z"
   },
   {
    "duration": 98,
    "start_time": "2022-05-24T17:00:37.859Z"
   },
   {
    "duration": 0,
    "start_time": "2022-05-24T17:00:37.958Z"
   },
   {
    "duration": 0,
    "start_time": "2022-05-24T17:00:37.960Z"
   },
   {
    "duration": 15,
    "start_time": "2022-05-24T17:00:46.116Z"
   },
   {
    "duration": 20,
    "start_time": "2022-05-24T17:01:37.615Z"
   },
   {
    "duration": 37,
    "start_time": "2022-05-24T17:04:20.169Z"
   },
   {
    "duration": 14,
    "start_time": "2022-05-24T17:04:47.091Z"
   },
   {
    "duration": 6,
    "start_time": "2022-05-24T17:07:19.768Z"
   },
   {
    "duration": 507,
    "start_time": "2022-05-24T17:07:31.891Z"
   },
   {
    "duration": 54,
    "start_time": "2022-05-25T11:31:32.949Z"
   },
   {
    "duration": 554,
    "start_time": "2022-05-25T11:31:46.750Z"
   },
   {
    "duration": 17,
    "start_time": "2022-05-25T11:31:47.307Z"
   },
   {
    "duration": 8,
    "start_time": "2022-05-25T11:31:47.325Z"
   },
   {
    "duration": 4,
    "start_time": "2022-05-25T11:31:47.334Z"
   },
   {
    "duration": 19,
    "start_time": "2022-05-25T11:31:47.340Z"
   },
   {
    "duration": 10,
    "start_time": "2022-05-25T11:31:47.360Z"
   },
   {
    "duration": 34,
    "start_time": "2022-05-25T11:31:47.371Z"
   },
   {
    "duration": 9,
    "start_time": "2022-05-25T11:31:47.407Z"
   },
   {
    "duration": 43,
    "start_time": "2022-05-25T11:31:47.417Z"
   },
   {
    "duration": 18,
    "start_time": "2022-05-25T11:31:47.462Z"
   },
   {
    "duration": 330,
    "start_time": "2022-05-25T11:31:47.483Z"
   },
   {
    "duration": 18,
    "start_time": "2022-05-25T11:31:47.814Z"
   },
   {
    "duration": 30,
    "start_time": "2022-05-25T11:31:47.833Z"
   },
   {
    "duration": 12,
    "start_time": "2022-05-25T11:31:47.865Z"
   },
   {
    "duration": 2,
    "start_time": "2022-05-25T11:31:47.879Z"
   },
   {
    "duration": 45,
    "start_time": "2022-05-25T11:31:47.884Z"
   },
   {
    "duration": 27,
    "start_time": "2022-05-25T11:31:47.931Z"
   },
   {
    "duration": 19,
    "start_time": "2022-05-25T11:31:47.959Z"
   },
   {
    "duration": 29,
    "start_time": "2022-05-25T11:31:47.980Z"
   },
   {
    "duration": 24,
    "start_time": "2022-05-25T11:31:48.011Z"
   },
   {
    "duration": 2,
    "start_time": "2022-05-25T11:31:48.060Z"
   },
   {
    "duration": 169,
    "start_time": "2022-05-25T11:31:48.064Z"
   },
   {
    "duration": 6,
    "start_time": "2022-05-25T11:31:48.234Z"
   },
   {
    "duration": 141,
    "start_time": "2022-05-25T11:31:48.241Z"
   },
   {
    "duration": 8,
    "start_time": "2022-05-25T11:31:48.384Z"
   },
   {
    "duration": 5,
    "start_time": "2022-05-25T11:31:48.393Z"
   },
   {
    "duration": 10,
    "start_time": "2022-05-25T11:31:48.400Z"
   },
   {
    "duration": 13,
    "start_time": "2022-05-25T11:31:48.413Z"
   },
   {
    "duration": 39,
    "start_time": "2022-05-25T11:31:48.428Z"
   },
   {
    "duration": 2,
    "start_time": "2022-05-25T11:31:48.469Z"
   },
   {
    "duration": 17,
    "start_time": "2022-05-25T11:31:48.473Z"
   },
   {
    "duration": 18,
    "start_time": "2022-05-25T11:31:48.491Z"
   },
   {
    "duration": 3,
    "start_time": "2022-05-25T11:31:48.510Z"
   },
   {
    "duration": 24,
    "start_time": "2022-05-25T11:31:48.514Z"
   },
   {
    "duration": 101,
    "start_time": "2022-05-25T11:31:48.560Z"
   },
   {
    "duration": 137,
    "start_time": "2022-05-25T11:31:54.832Z"
   },
   {
    "duration": 123,
    "start_time": "2022-05-25T11:31:57.352Z"
   },
   {
    "duration": 134,
    "start_time": "2022-05-25T11:32:00.370Z"
   },
   {
    "duration": 125,
    "start_time": "2022-05-25T11:32:07.383Z"
   },
   {
    "duration": 24,
    "start_time": "2022-05-25T11:33:23.858Z"
   },
   {
    "duration": 9,
    "start_time": "2022-05-25T11:36:33.972Z"
   },
   {
    "duration": 989,
    "start_time": "2022-05-25T11:36:57.869Z"
   },
   {
    "duration": 452,
    "start_time": "2022-05-25T11:38:25.670Z"
   },
   {
    "duration": 25,
    "start_time": "2022-05-25T11:39:59.680Z"
   },
   {
    "duration": 32,
    "start_time": "2022-05-25T11:40:06.502Z"
   },
   {
    "duration": 18,
    "start_time": "2022-05-25T11:41:05.030Z"
   },
   {
    "duration": 22,
    "start_time": "2022-05-25T11:41:59.906Z"
   },
   {
    "duration": 19,
    "start_time": "2022-05-25T11:42:03.920Z"
   },
   {
    "duration": 20,
    "start_time": "2022-05-25T11:42:45.198Z"
   },
   {
    "duration": 21,
    "start_time": "2022-05-25T11:42:52.810Z"
   },
   {
    "duration": 15,
    "start_time": "2022-05-25T11:50:41.907Z"
   },
   {
    "duration": 737,
    "start_time": "2022-05-25T11:51:23.504Z"
   },
   {
    "duration": 47,
    "start_time": "2022-05-25T11:52:20.703Z"
   },
   {
    "duration": 41,
    "start_time": "2022-05-25T11:52:39.577Z"
   },
   {
    "duration": 28,
    "start_time": "2022-05-25T11:53:07.117Z"
   },
   {
    "duration": 31,
    "start_time": "2022-05-25T11:53:28.467Z"
   },
   {
    "duration": 10,
    "start_time": "2022-05-25T11:54:38.127Z"
   },
   {
    "duration": 12,
    "start_time": "2022-05-25T11:54:45.376Z"
   },
   {
    "duration": 13,
    "start_time": "2022-05-25T11:55:44.776Z"
   },
   {
    "duration": 12,
    "start_time": "2022-05-25T11:56:03.245Z"
   },
   {
    "duration": 13,
    "start_time": "2022-05-25T11:56:04.635Z"
   },
   {
    "duration": 13,
    "start_time": "2022-05-25T11:56:15.348Z"
   },
   {
    "duration": 563,
    "start_time": "2022-05-25T11:56:51.067Z"
   },
   {
    "duration": 622,
    "start_time": "2022-05-25T11:57:09.838Z"
   },
   {
    "duration": 11,
    "start_time": "2022-05-25T11:57:16.766Z"
   },
   {
    "duration": 672,
    "start_time": "2022-05-25T11:58:22.583Z"
   },
   {
    "duration": 1142,
    "start_time": "2022-05-25T11:58:25.117Z"
   },
   {
    "duration": 513,
    "start_time": "2022-05-25T11:58:26.957Z"
   },
   {
    "duration": 549,
    "start_time": "2022-05-25T11:58:39.060Z"
   },
   {
    "duration": 817,
    "start_time": "2022-05-25T11:58:56.696Z"
   },
   {
    "duration": 658,
    "start_time": "2022-05-25T11:59:36.737Z"
   },
   {
    "duration": 1829,
    "start_time": "2022-05-25T12:00:01.739Z"
   },
   {
    "duration": 493,
    "start_time": "2022-05-25T12:00:10.389Z"
   },
   {
    "duration": 545,
    "start_time": "2022-05-25T12:00:33.430Z"
   },
   {
    "duration": 2,
    "start_time": "2022-05-25T12:01:37.708Z"
   },
   {
    "duration": 10,
    "start_time": "2022-05-25T12:03:05.944Z"
   },
   {
    "duration": 14,
    "start_time": "2022-05-25T12:04:00.276Z"
   },
   {
    "duration": 21,
    "start_time": "2022-05-25T12:04:28.888Z"
   },
   {
    "duration": 476,
    "start_time": "2022-05-25T12:04:43.926Z"
   },
   {
    "duration": 446,
    "start_time": "2022-05-25T12:05:17.037Z"
   },
   {
    "duration": 526,
    "start_time": "2022-05-25T12:05:25.687Z"
   },
   {
    "duration": 17,
    "start_time": "2022-05-25T12:06:46.028Z"
   },
   {
    "duration": 17,
    "start_time": "2022-05-25T12:13:06.346Z"
   },
   {
    "duration": 12,
    "start_time": "2022-05-25T12:27:01.508Z"
   },
   {
    "duration": 498,
    "start_time": "2022-05-25T12:28:48.700Z"
   },
   {
    "duration": 17,
    "start_time": "2022-05-25T12:28:49.199Z"
   },
   {
    "duration": 25,
    "start_time": "2022-05-25T12:28:49.217Z"
   },
   {
    "duration": 53,
    "start_time": "2022-05-25T12:28:49.244Z"
   },
   {
    "duration": 36,
    "start_time": "2022-05-25T12:28:49.299Z"
   },
   {
    "duration": 18,
    "start_time": "2022-05-25T12:28:49.336Z"
   },
   {
    "duration": 60,
    "start_time": "2022-05-25T12:28:49.356Z"
   },
   {
    "duration": 17,
    "start_time": "2022-05-25T12:28:49.418Z"
   },
   {
    "duration": 34,
    "start_time": "2022-05-25T12:28:49.437Z"
   },
   {
    "duration": 30,
    "start_time": "2022-05-25T12:28:49.475Z"
   },
   {
    "duration": 381,
    "start_time": "2022-05-25T12:28:49.507Z"
   },
   {
    "duration": 17,
    "start_time": "2022-05-25T12:28:49.890Z"
   },
   {
    "duration": 25,
    "start_time": "2022-05-25T12:28:49.909Z"
   },
   {
    "duration": 17,
    "start_time": "2022-05-25T12:28:49.935Z"
   },
   {
    "duration": 35,
    "start_time": "2022-05-25T12:28:49.959Z"
   },
   {
    "duration": 26,
    "start_time": "2022-05-25T12:28:49.996Z"
   },
   {
    "duration": 29,
    "start_time": "2022-05-25T12:28:50.024Z"
   },
   {
    "duration": 24,
    "start_time": "2022-05-25T12:28:50.054Z"
   },
   {
    "duration": 36,
    "start_time": "2022-05-25T12:28:50.081Z"
   },
   {
    "duration": 24,
    "start_time": "2022-05-25T12:28:50.119Z"
   },
   {
    "duration": 5,
    "start_time": "2022-05-25T12:28:50.161Z"
   },
   {
    "duration": 163,
    "start_time": "2022-05-25T12:28:50.168Z"
   },
   {
    "duration": 4,
    "start_time": "2022-05-25T12:28:50.333Z"
   },
   {
    "duration": 154,
    "start_time": "2022-05-25T12:28:50.338Z"
   },
   {
    "duration": 8,
    "start_time": "2022-05-25T12:28:50.493Z"
   },
   {
    "duration": 4,
    "start_time": "2022-05-25T12:28:50.503Z"
   },
   {
    "duration": 15,
    "start_time": "2022-05-25T12:28:50.508Z"
   },
   {
    "duration": 13,
    "start_time": "2022-05-25T12:28:50.526Z"
   },
   {
    "duration": 41,
    "start_time": "2022-05-25T12:28:50.540Z"
   },
   {
    "duration": 8,
    "start_time": "2022-05-25T12:28:50.582Z"
   },
   {
    "duration": 16,
    "start_time": "2022-05-25T12:28:50.592Z"
   },
   {
    "duration": 17,
    "start_time": "2022-05-25T12:28:50.610Z"
   },
   {
    "duration": 3,
    "start_time": "2022-05-25T12:28:50.628Z"
   },
   {
    "duration": 41,
    "start_time": "2022-05-25T12:28:50.633Z"
   },
   {
    "duration": 18,
    "start_time": "2022-05-25T12:28:50.676Z"
   },
   {
    "duration": 2,
    "start_time": "2022-05-25T12:28:50.696Z"
   },
   {
    "duration": 20,
    "start_time": "2022-05-25T12:28:50.700Z"
   },
   {
    "duration": 2,
    "start_time": "2022-05-25T12:28:50.721Z"
   },
   {
    "duration": 52,
    "start_time": "2022-05-25T12:28:50.725Z"
   },
   {
    "duration": 3,
    "start_time": "2022-05-25T12:28:50.778Z"
   },
   {
    "duration": 18,
    "start_time": "2022-05-25T12:29:22.629Z"
   },
   {
    "duration": 14,
    "start_time": "2022-05-25T12:29:25.759Z"
   },
   {
    "duration": 959,
    "start_time": "2022-05-26T13:01:15.114Z"
   },
   {
    "duration": 19,
    "start_time": "2022-05-26T13:01:16.075Z"
   },
   {
    "duration": 27,
    "start_time": "2022-05-26T13:01:16.096Z"
   },
   {
    "duration": 49,
    "start_time": "2022-05-26T13:01:16.126Z"
   },
   {
    "duration": 13,
    "start_time": "2022-05-26T13:01:16.177Z"
   },
   {
    "duration": 10,
    "start_time": "2022-05-26T13:01:16.193Z"
   },
   {
    "duration": 36,
    "start_time": "2022-05-26T13:01:16.205Z"
   },
   {
    "duration": 12,
    "start_time": "2022-05-26T13:01:16.243Z"
   },
   {
    "duration": 32,
    "start_time": "2022-05-26T13:01:16.257Z"
   },
   {
    "duration": 5,
    "start_time": "2022-05-26T13:01:16.291Z"
   },
   {
    "duration": 30,
    "start_time": "2022-05-26T13:01:16.298Z"
   },
   {
    "duration": 369,
    "start_time": "2022-05-26T13:01:16.332Z"
   },
   {
    "duration": 27,
    "start_time": "2022-05-26T13:01:16.702Z"
   },
   {
    "duration": 26,
    "start_time": "2022-05-26T13:01:16.731Z"
   },
   {
    "duration": 17,
    "start_time": "2022-05-26T13:01:16.759Z"
   },
   {
    "duration": 2,
    "start_time": "2022-05-26T13:01:16.778Z"
   },
   {
    "duration": 42,
    "start_time": "2022-05-26T13:01:16.782Z"
   },
   {
    "duration": 30,
    "start_time": "2022-05-26T13:01:16.826Z"
   },
   {
    "duration": 21,
    "start_time": "2022-05-26T13:01:16.858Z"
   },
   {
    "duration": 52,
    "start_time": "2022-05-26T13:01:16.880Z"
   },
   {
    "duration": 31,
    "start_time": "2022-05-26T13:01:16.935Z"
   },
   {
    "duration": 2,
    "start_time": "2022-05-26T13:01:16.968Z"
   },
   {
    "duration": 181,
    "start_time": "2022-05-26T13:01:16.971Z"
   },
   {
    "duration": 6,
    "start_time": "2022-05-26T13:01:17.153Z"
   },
   {
    "duration": 160,
    "start_time": "2022-05-26T13:01:17.161Z"
   },
   {
    "duration": 10,
    "start_time": "2022-05-26T13:01:17.323Z"
   },
   {
    "duration": 29,
    "start_time": "2022-05-26T13:01:17.335Z"
   },
   {
    "duration": 13,
    "start_time": "2022-05-26T13:01:17.369Z"
   },
   {
    "duration": 20,
    "start_time": "2022-05-26T13:01:17.384Z"
   },
   {
    "duration": 20,
    "start_time": "2022-05-26T13:01:17.406Z"
   },
   {
    "duration": 3,
    "start_time": "2022-05-26T13:01:17.428Z"
   },
   {
    "duration": 36,
    "start_time": "2022-05-26T13:01:17.435Z"
   },
   {
    "duration": 18,
    "start_time": "2022-05-26T13:01:17.473Z"
   },
   {
    "duration": 3,
    "start_time": "2022-05-26T13:01:17.494Z"
   },
   {
    "duration": 23,
    "start_time": "2022-05-26T13:01:17.498Z"
   },
   {
    "duration": 29,
    "start_time": "2022-05-26T13:01:17.522Z"
   },
   {
    "duration": 11,
    "start_time": "2022-05-26T13:01:17.556Z"
   },
   {
    "duration": 20,
    "start_time": "2022-05-26T13:01:17.569Z"
   },
   {
    "duration": 2,
    "start_time": "2022-05-26T13:01:17.592Z"
   },
   {
    "duration": 18,
    "start_time": "2022-05-26T13:01:17.596Z"
   },
   {
    "duration": 3,
    "start_time": "2022-05-26T13:01:17.626Z"
   },
   {
    "duration": 87,
    "start_time": "2022-05-26T13:02:28.541Z"
   },
   {
    "duration": 88,
    "start_time": "2022-05-26T13:02:43.106Z"
   },
   {
    "duration": 19,
    "start_time": "2022-05-26T13:02:51.676Z"
   },
   {
    "duration": 4,
    "start_time": "2022-05-26T13:07:36.307Z"
   },
   {
    "duration": 23,
    "start_time": "2022-05-26T13:07:40.782Z"
   },
   {
    "duration": 9,
    "start_time": "2022-05-26T13:09:24.684Z"
   },
   {
    "duration": 334,
    "start_time": "2022-05-26T13:10:53.335Z"
   },
   {
    "duration": 31,
    "start_time": "2022-05-26T13:12:12.113Z"
   },
   {
    "duration": 11,
    "start_time": "2022-05-26T13:12:13.650Z"
   },
   {
    "duration": 14,
    "start_time": "2022-05-26T13:13:13.653Z"
   },
   {
    "duration": 6,
    "start_time": "2022-05-26T13:13:17.849Z"
   },
   {
    "duration": 4,
    "start_time": "2022-05-26T13:14:51.646Z"
   },
   {
    "duration": 19,
    "start_time": "2022-05-26T13:16:42.359Z"
   },
   {
    "duration": 769,
    "start_time": "2022-05-26T13:35:11.425Z"
   },
   {
    "duration": 647,
    "start_time": "2022-05-26T13:35:34.515Z"
   },
   {
    "duration": 15,
    "start_time": "2022-05-26T13:40:40.200Z"
   },
   {
    "duration": 26,
    "start_time": "2022-05-26T13:41:28.212Z"
   },
   {
    "duration": 50,
    "start_time": "2022-05-26T13:41:50.712Z"
   },
   {
    "duration": 24,
    "start_time": "2022-05-26T13:41:56.023Z"
   },
   {
    "duration": 15,
    "start_time": "2022-05-26T13:41:57.982Z"
   },
   {
    "duration": 27,
    "start_time": "2022-05-26T13:42:16.912Z"
   },
   {
    "duration": 29,
    "start_time": "2022-05-26T13:42:18.545Z"
   },
   {
    "duration": 630,
    "start_time": "2022-05-26T13:42:58.867Z"
   },
   {
    "duration": 56,
    "start_time": "2022-05-26T13:42:59.500Z"
   },
   {
    "duration": 28,
    "start_time": "2022-05-26T13:42:59.558Z"
   },
   {
    "duration": 9,
    "start_time": "2022-05-26T13:42:59.588Z"
   },
   {
    "duration": 16,
    "start_time": "2022-05-26T13:42:59.599Z"
   },
   {
    "duration": 15,
    "start_time": "2022-05-26T13:42:59.617Z"
   },
   {
    "duration": 55,
    "start_time": "2022-05-26T13:42:59.633Z"
   },
   {
    "duration": 7,
    "start_time": "2022-05-26T13:42:59.690Z"
   },
   {
    "duration": 12,
    "start_time": "2022-05-26T13:42:59.699Z"
   },
   {
    "duration": 56,
    "start_time": "2022-05-26T13:42:59.713Z"
   },
   {
    "duration": 15,
    "start_time": "2022-05-26T13:42:59.770Z"
   },
   {
    "duration": 26,
    "start_time": "2022-05-26T13:42:59.788Z"
   },
   {
    "duration": 7,
    "start_time": "2022-05-26T13:42:59.816Z"
   },
   {
    "duration": 66,
    "start_time": "2022-05-26T13:42:59.826Z"
   },
   {
    "duration": 447,
    "start_time": "2022-05-26T13:42:59.894Z"
   },
   {
    "duration": 34,
    "start_time": "2022-05-26T13:43:00.343Z"
   },
   {
    "duration": 29,
    "start_time": "2022-05-26T13:43:00.379Z"
   },
   {
    "duration": 27,
    "start_time": "2022-05-26T13:43:00.410Z"
   },
   {
    "duration": 40,
    "start_time": "2022-05-26T13:43:00.439Z"
   },
   {
    "duration": 23,
    "start_time": "2022-05-26T13:43:00.481Z"
   },
   {
    "duration": 22,
    "start_time": "2022-05-26T13:43:00.506Z"
   },
   {
    "duration": 29,
    "start_time": "2022-05-26T13:43:00.530Z"
   },
   {
    "duration": 47,
    "start_time": "2022-05-26T13:43:00.562Z"
   },
   {
    "duration": 33,
    "start_time": "2022-05-26T13:43:00.611Z"
   },
   {
    "duration": 35,
    "start_time": "2022-05-26T13:43:00.646Z"
   },
   {
    "duration": 207,
    "start_time": "2022-05-26T13:43:00.683Z"
   },
   {
    "duration": 8,
    "start_time": "2022-05-26T13:43:00.892Z"
   },
   {
    "duration": 209,
    "start_time": "2022-05-26T13:43:00.902Z"
   },
   {
    "duration": 15,
    "start_time": "2022-05-26T13:43:01.114Z"
   },
   {
    "duration": 50,
    "start_time": "2022-05-26T13:43:01.131Z"
   },
   {
    "duration": 36,
    "start_time": "2022-05-26T13:43:01.183Z"
   },
   {
    "duration": 75,
    "start_time": "2022-05-26T13:43:01.222Z"
   },
   {
    "duration": 23,
    "start_time": "2022-05-26T13:43:01.298Z"
   },
   {
    "duration": 26,
    "start_time": "2022-05-26T13:43:01.327Z"
   },
   {
    "duration": 69,
    "start_time": "2022-05-26T13:43:01.358Z"
   },
   {
    "duration": 69,
    "start_time": "2022-05-26T13:43:01.429Z"
   },
   {
    "duration": 40,
    "start_time": "2022-05-26T13:43:01.500Z"
   },
   {
    "duration": 66,
    "start_time": "2022-05-26T13:43:01.542Z"
   },
   {
    "duration": 83,
    "start_time": "2022-05-26T13:43:01.611Z"
   },
   {
    "duration": 7,
    "start_time": "2022-05-26T13:43:01.696Z"
   },
   {
    "duration": 23,
    "start_time": "2022-05-26T13:43:01.707Z"
   },
   {
    "duration": 46,
    "start_time": "2022-05-26T13:43:01.732Z"
   },
   {
    "duration": 427,
    "start_time": "2022-05-26T13:43:22.078Z"
   },
   {
    "duration": 32,
    "start_time": "2022-05-26T13:43:26.847Z"
   },
   {
    "duration": 34,
    "start_time": "2022-05-26T13:43:32.240Z"
   },
   {
    "duration": 4,
    "start_time": "2022-05-26T13:52:16.766Z"
   },
   {
    "duration": 43,
    "start_time": "2022-05-26T13:52:24.124Z"
   },
   {
    "duration": 17,
    "start_time": "2022-05-26T13:52:37.774Z"
   },
   {
    "duration": 21,
    "start_time": "2022-05-26T13:52:41.108Z"
   },
   {
    "duration": 28,
    "start_time": "2022-05-26T13:53:14.742Z"
   },
   {
    "duration": 3,
    "start_time": "2022-05-26T13:53:16.215Z"
   }
  ],
  "kernelspec": {
   "display_name": "Python 3 (ipykernel)",
   "language": "python",
   "name": "python3"
  },
  "language_info": {
   "codemirror_mode": {
    "name": "ipython",
    "version": 3
   },
   "file_extension": ".py",
   "mimetype": "text/x-python",
   "name": "python",
   "nbconvert_exporter": "python",
   "pygments_lexer": "ipython3",
   "version": "3.9.5"
  },
  "toc": {
   "base_numbering": 1,
   "nav_menu": {},
   "number_sections": true,
   "sideBar": true,
   "skip_h1_title": true,
   "title_cell": "Table of Contents",
   "title_sidebar": "Contents",
   "toc_cell": false,
   "toc_position": {},
   "toc_section_display": true,
   "toc_window_display": false
  }
 },
 "nbformat": 4,
 "nbformat_minor": 5
}
